{
 "cells": [
  {
   "cell_type": "code",
   "execution_count": null,
   "metadata": {
    "collapsed": true
   },
   "outputs": [],
   "source": [
    "\"\"\"\n",
    "Assignment No:2\n",
    "write a program to chek given substring is there in actual string or not? (search should be case insensitive\n",
    "\"\"\"\""
   ]
  },
  {
   "cell_type": "code",
   "execution_count": null,
   "metadata": {
    "collapsed": true
   },
   "outputs": [],
   "source": []
  },
  {
   "cell_type": "code",
   "execution_count": 30,
   "metadata": {
    "collapsed": false
   },
   "outputs": [
    {
     "name": "stdout",
     "output_type": "stream",
     "text": [
      "Enter the Actual string:paSSporT\n",
      "Enter the substring that you want to check in actual string:ss\n"
     ]
    },
    {
     "data": {
      "text/plain": [
       "['The sub-string is present']"
      ]
     },
     "execution_count": 30,
     "metadata": {},
     "output_type": "execute_result"
    }
   ],
   "source": [
    "s=raw_input('Enter the Actual string:')\n",
    "s1=raw_input('Enter the substring that you want to check in actual string:')\n",
    "s=s.lower()\n",
    "s1=s1.lower()\n",
    "#if s1 in s:\n",
    "    #print 'The sub-string is present'\n",
    "['The sub-string is present' if s1 in s else 'The sub-string is not present']    "
   ]
  },
  {
   "cell_type": "code",
   "execution_count": null,
   "metadata": {
    "collapsed": true
   },
   "outputs": [],
   "source": [
    "\"\"\"\"\n",
    "Assigment No:3\n",
    "Take a number from the user and check whether even or odd\n",
    "\"\"\""
   ]
  },
  {
   "cell_type": "code",
   "execution_count": 61,
   "metadata": {
    "collapsed": false
   },
   "outputs": [
    {
     "name": "stdout",
     "output_type": "stream",
     "text": [
      "Enter the number to check whether it is even or odd:124374843840\n",
      "The given Number is 124374843840 even\n"
     ]
    }
   ],
   "source": [
    "Number=raw_input('Enter the number to check whether it is even or odd:')\n",
    "if Number.isdigit():\n",
    "    a=len(Number)\n",
    "    if Number[int(a)-1] in ['0','2','4','6','8']:\n",
    "        print 'The given Number is %s even'%Number\n",
    "    else:\n",
    "        print 'The given Number is %s odd'%Number\n",
    "else:\n",
    "    print 'oops! you have entered name istead of number'\n",
    "    "
   ]
  },
  {
   "cell_type": "code",
   "execution_count": null,
   "metadata": {
    "collapsed": true
   },
   "outputs": [],
   "source": [
    "\"\"\"\n",
    "Assignment No:4\n",
    "take a number from the user and check whether it is prime\n",
    "\"\"\"\""
   ]
  },
  {
   "cell_type": "code",
   "execution_count": 41,
   "metadata": {
    "collapsed": false
   },
   "outputs": [
    {
     "name": "stdout",
     "output_type": "stream",
     "text": [
      "Enter the number you want to check whether it is prime or not:444444\n",
      "The given number is not prime and it is composite\n"
     ]
    }
   ],
   "source": [
    "Number=input('Enter the number you want to check whether it is prime or not:')\n",
    "if Number==0:\n",
    "    print '0 is neither prime nor composite'\n",
    "elif Number==1:\n",
    "    print '1 is not a prime or composite'\n",
    "elif Number>1:\n",
    "    for a in range(Number):\n",
    "        if a!=0 and a!=1 and Number%a==0:\n",
    "            print 'The given number is not prime and it is composite'\n",
    "            break\n",
    "    else:\n",
    "        print 'The number is prime'\n",
    "else:\n",
    "    print 'Please enter positive number'\n",
    "        "
   ]
  },
  {
   "cell_type": "code",
   "execution_count": null,
   "metadata": {
    "collapsed": true
   },
   "outputs": [],
   "source": [
    "\"\"\"\n",
    "Assigment No:5\n",
    "take a string from the user and check contains only digits or not\n",
    "\"\"\"\""
   ]
  },
  {
   "cell_type": "code",
   "execution_count": 44,
   "metadata": {
    "collapsed": false
   },
   "outputs": [
    {
     "name": "stdout",
     "output_type": "stream",
     "text": [
      "Enter a string to check whether it contains digit or not:12345\n",
      "The number is digit\n"
     ]
    }
   ],
   "source": [
    "Data=raw_input('Enter a string to check whether it contains digit or not:')\n",
    "if Data.isdigit():\n",
    "    print 'The number is digit'\n",
    "else:\n",
    "    print 'The number is not digit'"
   ]
  },
  {
   "cell_type": "code",
   "execution_count": null,
   "metadata": {
    "collapsed": true
   },
   "outputs": [],
   "source": [
    "\"\"\"\n",
    "Assigment No:6\n",
    "take a string from the user and check contains only  alphabets or not\n",
    "\"\"\""
   ]
  },
  {
   "cell_type": "code",
   "execution_count": 46,
   "metadata": {
    "collapsed": false
   },
   "outputs": [
    {
     "name": "stdout",
     "output_type": "stream",
     "text": [
      "Enter a string to check whether it contains alphabet or not:24567900\n",
      "The number is not alphabet\n"
     ]
    }
   ],
   "source": [
    "Data=raw_input('Enter a string to check whether it contains alphabet or not:')\n",
    "if Data.isalpha():\n",
    "    print 'The number is alphabet'\n",
    "else:\n",
    "    print 'The number is not alphabet'"
   ]
  },
  {
   "cell_type": "code",
   "execution_count": null,
   "metadata": {
    "collapsed": true
   },
   "outputs": [],
   "source": [
    "\"\"\"\n",
    "Assigment No:8\n",
    "take a string from the user and check contains only  capiatl letters or not\n",
    "\"\"\""
   ]
  },
  {
   "cell_type": "code",
   "execution_count": 6,
   "metadata": {
    "collapsed": false
   },
   "outputs": [
    {
     "name": "stdout",
     "output_type": "stream",
     "text": [
      "Enter a string to check whether a number contains only capitial or not:ASDJDJSKLSJSLOAJSLAS\n",
      "The string contains all the capital letters\n"
     ]
    }
   ],
   "source": [
    "Data=raw_input('Enter a string to check whether a number contains only capitial or not:')\n",
    "if Data.isupper():\n",
    "    print 'The string contains all the capital letters'\n",
    "else:\n",
    "    print \"The string doesn't contains all capital letters\""
   ]
  },
  {
   "cell_type": "code",
   "execution_count": null,
   "metadata": {
    "collapsed": true
   },
   "outputs": [],
   "source": [
    "\"\"\"\n",
    "Assigment No:9\n",
    "take a string from the user and check contains only  small letters or not\n",
    "\"\"\""
   ]
  },
  {
   "cell_type": "code",
   "execution_count": 10,
   "metadata": {
    "collapsed": false
   },
   "outputs": [
    {
     "name": "stdout",
     "output_type": "stream",
     "text": [
      "Enter a string to check whether a number contains small letters or not:qdsssjsksmsxkisjsssj\n",
      "The string contains all the small letters\n"
     ]
    }
   ],
   "source": [
    "Data=raw_input('Enter a string to check whether a number contains small letters or not:')\n",
    "if Data.islower():\n",
    "    print 'The string contains all the small letters'\n",
    "else:\n",
    "    print \"The string doesn't contains all small letters\""
   ]
  },
  {
   "cell_type": "code",
   "execution_count": null,
   "metadata": {
    "collapsed": true
   },
   "outputs": [],
   "source": [
    "\"\"\"\n",
    "Assigment No:10\n",
    "Show the below menu to the user until and until user select quit and display corresponding os message\n",
    "'''\n",
    "Menu:\n",
    "1. windows\n",
    "2. Linux\n",
    "3. Mac\n",
    "4. quit\n",
    "'''\n",
    "\"\"\""
   ]
  },
  {
   "cell_type": "code",
   "execution_count": 1,
   "metadata": {
    "collapsed": false
   },
   "outputs": [
    {
     "name": "stdout",
     "output_type": "stream",
     "text": [
      "Menu:\n",
      "1.Windows\n",
      "2.Linux\n",
      "3.Mac\n",
      "4.quit\n",
      "Enter your choice from the above menu1\n",
      "The server is running Windows operating system\n",
      "Menu:\n",
      "1.Windows\n",
      "2.Linux\n",
      "3.Mac\n",
      "4.quit\n",
      "Enter your choice from the above menu1\n",
      "The server is running Windows operating system\n",
      "Menu:\n",
      "1.Windows\n",
      "2.Linux\n",
      "3.Mac\n",
      "4.quit\n",
      "Enter your choice from the above menu2\n",
      "The server is running Linux operating system\n",
      "Menu:\n",
      "1.Windows\n",
      "2.Linux\n",
      "3.Mac\n",
      "4.quit\n",
      "Enter your choice from the above menu4\n",
      "Thankyou\n"
     ]
    }
   ],
   "source": [
    "while True:\n",
    "    print(\"\"\"Menu:\\n1.Windows\\n2.Linux\\n3.Mac\\n4.quit\"\"\")\n",
    "    choice=raw_input('Enter your choice from the above menu')\n",
    "    if choice=='1': \n",
    "        print 'The server is running Windows operating system'\n",
    "    elif choice=='2':\n",
    "        print 'The server is running Linux operating system'\n",
    "    elif choice=='3':\n",
    "        print 'The server is running Mac operating system'\n",
    "    elif choice=='4':\n",
    "        print 'Thankyou'\n",
    "        break \n",
    "    else:\n",
    "        print 'Print enter valid option'\n",
    "    "
   ]
  },
  {
   "cell_type": "code",
   "execution_count": null,
   "metadata": {
    "collapsed": true
   },
   "outputs": [],
   "source": [
    "\"\"\"\n",
    "Assigment No:10\n",
    "take a string from the user and check contains atleast one digit or not?\n",
    "\"\"\""
   ]
  },
  {
   "cell_type": "code",
   "execution_count": 3,
   "metadata": {
    "collapsed": false
   },
   "outputs": [
    {
     "name": "stdout",
     "output_type": "stream",
     "text": [
      "Enter string to check whether it contains atleast one digit or not:m124ankta\n",
      "The string contains atleast one digit\n"
     ]
    }
   ],
   "source": [
    "Data=raw_input('Enter string to check whether it contains atleast one digit or not:')\n",
    "for a in Data:\n",
    "    if a.isdigit():\n",
    "        print 'The string contains atleast one digit'\n",
    "        break\n",
    "else:\n",
    "    print 'The string contains only alphabets'"
   ]
  },
  {
   "cell_type": "code",
   "execution_count": null,
   "metadata": {
    "collapsed": true
   },
   "outputs": [],
   "source": [
    "\"\"\"\n",
    "Assigment No:11\n",
    "take a string from the user and check contains atleast one alphabets or not\n",
    "\"\"\""
   ]
  },
  {
   "cell_type": "code",
   "execution_count": 5,
   "metadata": {
    "collapsed": false
   },
   "outputs": [
    {
     "name": "stdout",
     "output_type": "stream",
     "text": [
      "Enter string to check whether it contains atleast one alphabet or not:1234Mani564445443\n",
      "The string contains atleast one alphabet\n"
     ]
    }
   ],
   "source": [
    "Data=raw_input('Enter string to check whether it contains atleast one alphabet or not:')\n",
    "for a in Data:\n",
    "    if a.isalpha():\n",
    "        print 'The string contains atleast one alphabet'\n",
    "        break\n",
    "else:\n",
    "    print 'The string contains only digits'"
   ]
  },
  {
   "cell_type": "code",
   "execution_count": null,
   "metadata": {
    "collapsed": true
   },
   "outputs": [],
   "source": [
    "\"\"\"\n",
    "Assignment No:16\n",
    "Take the input from the user for(Total number of people, toatl number of busses, Number of seats for bus). \n",
    "Based on the inputDecide ide whether there is sufficient busses or not and give solution \n",
    "for how many extra busses required.\n",
    "\"\"\"\n",
    "import math\n",
    "math.floor(2.1)\n",
    "math.ceil(2.1)"
   ]
  },
  {
   "cell_type": "code",
   "execution_count": 2,
   "metadata": {
    "collapsed": false
   },
   "outputs": [
    {
     "name": "stdout",
     "output_type": "stream",
     "text": [
      "Enter number of people planned for journey:50\n",
      "Enter your estimated buses based on the number of please planned for journey:5\n",
      "Enter No of seats in the bus:10\n",
      "correct estimation\n",
      "Bus count is 5\n"
     ]
    }
   ],
   "source": [
    "def user_plan_travel():\n",
    "    global Total_People\n",
    "    global Total_Buses\n",
    "    global Total_No_of_Seats\n",
    "    Total_People=input('Enter number of people planned for journey:')\n",
    "    Total_Buses=input('Enter your estimated buses based on the number of please planned for journey:')\n",
    "    Total_No_of_Seats=input('Enter No of seats in the bus:')\n",
    "    return Total_Buses\n",
    "    \n",
    "     \n",
    "def travel_agent_estimation():\n",
    "    global Actual_Buses\n",
    "    Actual_Buses=Total_People/Total_No_of_Seats\n",
    "    return Actual_Buses\n",
    "    \n",
    "    \n",
    "    \n",
    "Data=user_plan_travel()\n",
    "Data1=travel_agent_estimation()\n",
    "if Data==Data1:\n",
    "    print 'correct estimation'\n",
    "    print 'Bus count is',Total_Buses\n",
    "elif (Actual_Buses)*(Total_No_of_Seats)==Total_People:\n",
    "    print 'Incorrect estimation'\n",
    "    print 'correct bus count is', Actual_Buses\n",
    "else:\n",
    "    Actual_Buses=Actual_Buses+1\n",
    "    print 'correct bus count is',Actual_Buses\n",
    "    \n"
   ]
  },
  {
   "cell_type": "markdown",
   "metadata": {},
   "source": [
    "math.ceil(2.1)"
   ]
  },
  {
   "cell_type": "code",
   "execution_count": null,
   "metadata": {
    "collapsed": true
   },
   "outputs": [],
   "source": [
    "\"\"\"\n",
    "Assignment No:17\n",
    "print first 100 odd number\n",
    "\"\"\""
   ]
  },
  {
   "cell_type": "code",
   "execution_count": 6,
   "metadata": {
    "collapsed": false
   },
   "outputs": [
    {
     "name": "stdout",
     "output_type": "stream",
     "text": [
      "[1, 3, 5, 7, 9, 11, 13, 15, 17, 19, 21, 23, 25, 27, 29, 31, 33, 35, 37, 39, 41, 43, 45, 47, 49, 51, 53, 55, 57, 59, 61, 63, 65, 67, 69, 71, 73, 75, 77, 79, 81, 83, 85, 87, 89, 91, 93, 95, 97, 99]\n"
     ]
    }
   ],
   "source": [
    "odd_Number=[a for a in range(1,101) if a%2!=0]\n",
    "print odd_Number"
   ]
  },
  {
   "cell_type": "code",
   "execution_count": null,
   "metadata": {
    "collapsed": true
   },
   "outputs": [],
   "source": [
    "\"\"\"\n",
    "Assignment No:18\n",
    "Determine the factor of the number entered by the user\n",
    "\"\"\""
   ]
  },
  {
   "cell_type": "code",
   "execution_count": 4,
   "metadata": {
    "collapsed": false
   },
   "outputs": [
    {
     "name": "stdout",
     "output_type": "stream",
     "text": [
      "Please enter the number you want to find the factorial:7\n",
      "1\n",
      "2\n",
      "3\n",
      "4\n",
      "5\n",
      "6\n",
      "7\n",
      "The factorial of 7 is 5040\n"
     ]
    }
   ],
   "source": [
    "Data=input('Please enter the number you want to find the factorial:')\n",
    "a=1\n",
    "for b in range(1,Data+1):\n",
    "    print b\n",
    "    a=a*b\n",
    "print \"The factorial of {0} is {1}\".format(Data,a) "
   ]
  },
  {
   "cell_type": "code",
   "execution_count": null,
   "metadata": {
    "collapsed": true
   },
   "outputs": [],
   "source": [
    "\"\"\"\n",
    "Assignment No:19\n",
    "Play a number guessing game (User enters a guess, you print YES or Higher or Lower)\n",
    "\"\"\""
   ]
  },
  {
   "cell_type": "code",
   "execution_count": 5,
   "metadata": {
    "collapsed": false
   },
   "outputs": [
    {
     "name": "stdout",
     "output_type": "stream",
     "text": [
      "The user will have 3 chances\n",
      "The is the chance 1\n",
      "Enter your guess below 1000:289\n",
      "your guess is not correct and it higher than application guess\n",
      "The is the chance 2\n",
      "Enter your guess below 1000:456\n",
      "Your guess is not correct and it is lower than application guess\n",
      "The is the chance 3\n",
      "Enter your guess below 1000:789\n",
      "your guess is not correct and it higher than application guess\n",
      "Please try again\n"
     ]
    }
   ],
   "source": [
    "import random \n",
    "Trails=True \n",
    "count=0 \n",
    "print 'The user will have 3 chances'\n",
    "while Trails:\n",
    "    count=count+1\n",
    "    if count<=3:\n",
    "        print 'The is the chance %d'%count \n",
    "        Application_guess=random.randrange(0,1000) \n",
    "        User_guess=input('Enter your guess below 1000:')\n",
    "        if Application_guess==User_guess and count<=3:\n",
    "            print 'Your guess is correct'\n",
    "            break\n",
    "        elif Application_guess>User_guess and count<=3:\n",
    "            print 'Your guess is not correct and it is lower than application guess'\n",
    "            \n",
    "        elif Application_guess<User_guess and count<=3:  \n",
    "            print \"your guess is not correct and it higher than application guess\"\n",
    "        \n",
    "    else:\n",
    "        print 'Please try again'\n",
    "        Trails=False\n",
    "        "
   ]
  },
  {
   "cell_type": "code",
   "execution_count": null,
   "metadata": {
    "collapsed": true
   },
   "outputs": [],
   "source": [
    "\"\"\"\n",
    "Assignment No:20\n",
    "Take two numbers from the user a,b check whether a is divisible by b or not?\n",
    "\"\"\""
   ]
  },
  {
   "cell_type": "code",
   "execution_count": 6,
   "metadata": {
    "collapsed": false
   },
   "outputs": [
    {
     "name": "stdout",
     "output_type": "stream",
     "text": [
      "Enter the first number:34\n",
      "Enter the second number:4\n",
      "a is not divisible by b\n"
     ]
    }
   ],
   "source": [
    "a=input('Enter the first number:')\n",
    "b=input('Enter the second number:')\n",
    "if a/b==0:\n",
    "    print 'a is divisible by b'\n",
    "else:\n",
    "    print 'a is not divisible by b'"
   ]
  },
  {
   "cell_type": "code",
   "execution_count": null,
   "metadata": {
    "collapsed": true
   },
   "outputs": [],
   "source": [
    "\"\"\"\n",
    "Assignment No:22\n",
    "Find the sum of all the multiples of 3 or 5 below 1000\n",
    "\"\"\""
   ]
  },
  {
   "cell_type": "code",
   "execution_count": 1,
   "metadata": {
    "collapsed": false
   },
   "outputs": [
    {
     "name": "stdout",
     "output_type": "stream",
     "text": [
      "[3, 6, 9, 12, 15, 18, 21, 24, 27, 30, 33, 36, 39, 42, 45, 48, 51, 54, 57, 60, 63, 66, 69, 72, 75, 78, 81, 84, 87, 90, 93, 96, 99, 102, 105, 108, 111, 114, 117, 120, 123, 126, 129, 132, 135, 138, 141, 144, 147, 150, 153, 156, 159, 162, 165, 168, 171, 174, 177, 180, 183, 186, 189, 192, 195, 198, 201, 204, 207, 210, 213, 216, 219, 222, 225, 228, 231, 234, 237, 240, 243, 246, 249, 252, 255, 258, 261, 264, 267, 270, 273, 276, 279, 282, 285, 288, 291, 294, 297, 300, 303, 306, 309, 312, 315, 318, 321, 324, 327, 330, 333, 336, 339, 342, 345, 348, 351, 354, 357, 360, 363, 366, 369, 372, 375, 378, 381, 384, 387, 390, 393, 396, 399, 402, 405, 408, 411, 414, 417, 420, 423, 426, 429, 432, 435, 438, 441, 444, 447, 450, 453, 456, 459, 462, 465, 468, 471, 474, 477, 480, 483, 486, 489, 492, 495, 498, 501, 504, 507, 510, 513, 516, 519, 522, 525, 528, 531, 534, 537, 540, 543, 546, 549, 552, 555, 558, 561, 564, 567, 570, 573, 576, 579, 582, 585, 588, 591, 594, 597, 600, 603, 606, 609, 612, 615, 618, 621, 624, 627, 630, 633, 636, 639, 642, 645, 648, 651, 654, 657, 660, 663, 666, 669, 672, 675, 678, 681, 684, 687, 690, 693, 696, 699, 702, 705, 708, 711, 714, 717, 720, 723, 726, 729, 732, 735, 738, 741, 744, 747, 750, 753, 756, 759, 762, 765, 768, 771, 774, 777, 780, 783, 786, 789, 792, 795, 798, 801, 804, 807, 810, 813, 816, 819, 822, 825, 828, 831, 834, 837, 840, 843, 846, 849, 852, 855, 858, 861, 864, 867, 870, 873, 876, 879, 882, 885, 888, 891, 894, 897, 900, 903, 906, 909, 912, 915, 918, 921, 924, 927, 930, 933, 936, 939, 942, 945, 948, 951, 954, 957, 960, 963, 966, 969, 972, 975, 978, 981, 984, 987, 990, 993, 996, 999, 1002, 1005, 1008, 1011, 1014, 1017, 1020, 1023, 1026, 1029, 1032, 1035, 1038, 1041, 1044, 1047, 1050, 1053, 1056, 1059, 1062, 1065, 1068, 1071, 1074, 1077, 1080, 1083, 1086, 1089, 1092, 1095, 1098, 1101, 1104, 1107, 1110, 1113, 1116, 1119, 1122, 1125, 1128, 1131, 1134, 1137, 1140, 1143, 1146, 1149, 1152, 1155, 1158, 1161, 1164, 1167, 1170, 1173, 1176, 1179, 1182, 1185, 1188, 1191, 1194, 1197, 1200, 1203, 1206, 1209, 1212, 1215, 1218, 1221, 1224, 1227, 1230, 1233, 1236, 1239, 1242, 1245, 1248, 1251, 1254, 1257, 1260, 1263, 1266, 1269, 1272, 1275, 1278, 1281, 1284, 1287, 1290, 1293, 1296, 1299, 1302, 1305, 1308, 1311, 1314, 1317, 1320, 1323, 1326, 1329, 1332, 1335, 1338, 1341, 1344, 1347, 1350, 1353, 1356, 1359, 1362, 1365, 1368, 1371, 1374, 1377, 1380, 1383, 1386, 1389, 1392, 1395, 1398, 1401, 1404, 1407, 1410, 1413, 1416, 1419, 1422, 1425, 1428, 1431, 1434, 1437, 1440, 1443, 1446, 1449, 1452, 1455, 1458, 1461, 1464, 1467, 1470, 1473, 1476, 1479, 1482, 1485, 1488, 1491, 1494, 1497, 1500, 1503, 1506, 1509, 1512, 1515, 1518, 1521, 1524, 1527, 1530, 1533, 1536, 1539, 1542, 1545, 1548, 1551, 1554, 1557, 1560, 1563, 1566, 1569, 1572, 1575, 1578, 1581, 1584, 1587, 1590, 1593, 1596, 1599, 1602, 1605, 1608, 1611, 1614, 1617, 1620, 1623, 1626, 1629, 1632, 1635, 1638, 1641, 1644, 1647, 1650, 1653, 1656, 1659, 1662, 1665, 1668, 1671, 1674, 1677, 1680, 1683, 1686, 1689, 1692, 1695, 1698, 1701, 1704, 1707, 1710, 1713, 1716, 1719, 1722, 1725, 1728, 1731, 1734, 1737, 1740, 1743, 1746, 1749, 1752, 1755, 1758, 1761, 1764, 1767, 1770, 1773, 1776, 1779, 1782, 1785, 1788, 1791, 1794, 1797, 1800, 1803, 1806, 1809, 1812, 1815, 1818, 1821, 1824, 1827, 1830, 1833, 1836, 1839, 1842, 1845, 1848, 1851, 1854, 1857, 1860, 1863, 1866, 1869, 1872, 1875, 1878, 1881, 1884, 1887, 1890, 1893, 1896, 1899, 1902, 1905, 1908, 1911, 1914, 1917, 1920, 1923, 1926, 1929, 1932, 1935, 1938, 1941, 1944, 1947, 1950, 1953, 1956, 1959, 1962, 1965, 1968, 1971, 1974, 1977, 1980, 1983, 1986, 1989, 1992, 1995, 1998, 2001, 2004, 2007, 2010, 2013, 2016, 2019, 2022, 2025, 2028, 2031, 2034, 2037, 2040, 2043, 2046, 2049, 2052, 2055, 2058, 2061, 2064, 2067, 2070, 2073, 2076, 2079, 2082, 2085, 2088, 2091, 2094, 2097, 2100, 2103, 2106, 2109, 2112, 2115, 2118, 2121, 2124, 2127, 2130, 2133, 2136, 2139, 2142, 2145, 2148, 2151, 2154, 2157, 2160, 2163, 2166, 2169, 2172, 2175, 2178, 2181, 2184, 2187, 2190, 2193, 2196, 2199, 2202, 2205, 2208, 2211, 2214, 2217, 2220, 2223, 2226, 2229, 2232, 2235, 2238, 2241, 2244, 2247, 2250, 2253, 2256, 2259, 2262, 2265, 2268, 2271, 2274, 2277, 2280, 2283, 2286, 2289, 2292, 2295, 2298, 2301, 2304, 2307, 2310, 2313, 2316, 2319, 2322, 2325, 2328, 2331, 2334, 2337, 2340, 2343, 2346, 2349, 2352, 2355, 2358, 2361, 2364, 2367, 2370, 2373, 2376, 2379, 2382, 2385, 2388, 2391, 2394, 2397, 2400, 2403, 2406, 2409, 2412, 2415, 2418, 2421, 2424, 2427, 2430, 2433, 2436, 2439, 2442, 2445, 2448, 2451, 2454, 2457, 2460, 2463, 2466, 2469, 2472, 2475, 2478, 2481, 2484, 2487, 2490, 2493, 2496, 2499, 2502, 2505, 2508, 2511, 2514, 2517, 2520, 2523, 2526, 2529, 2532, 2535, 2538, 2541, 2544, 2547, 2550, 2553, 2556, 2559, 2562, 2565, 2568, 2571, 2574, 2577, 2580, 2583, 2586, 2589, 2592, 2595, 2598, 2601, 2604, 2607, 2610, 2613, 2616, 2619, 2622, 2625, 2628, 2631, 2634, 2637, 2640, 2643, 2646, 2649, 2652, 2655, 2658, 2661, 2664, 2667, 2670, 2673, 2676, 2679, 2682, 2685, 2688, 2691, 2694, 2697, 2700, 2703, 2706, 2709, 2712, 2715, 2718, 2721, 2724, 2727, 2730, 2733, 2736, 2739, 2742, 2745, 2748, 2751, 2754, 2757, 2760, 2763, 2766, 2769, 2772, 2775, 2778, 2781, 2784, 2787, 2790, 2793, 2796, 2799, 2802, 2805, 2808, 2811, 2814, 2817, 2820, 2823, 2826, 2829, 2832, 2835, 2838, 2841, 2844, 2847, 2850, 2853, 2856, 2859, 2862, 2865, 2868, 2871, 2874, 2877, 2880, 2883, 2886, 2889, 2892, 2895, 2898, 2901, 2904, 2907, 2910, 2913, 2916, 2919, 2922, 2925, 2928, 2931, 2934, 2937, 2940, 2943, 2946, 2949, 2952, 2955, 2958, 2961, 2964, 2967, 2970, 2973, 2976, 2979, 2982, 2985, 2988, 2991, 2994, 2997]\n"
     ]
    }
   ],
   "source": [
    "#multiples of 3 below 1000\n",
    "a=3\n",
    "c=[a*b for b in range(1,1000)]\n",
    "print c"
   ]
  },
  {
   "cell_type": "code",
   "execution_count": 2,
   "metadata": {
    "collapsed": false
   },
   "outputs": [
    {
     "name": "stdout",
     "output_type": "stream",
     "text": [
      "[5, 10, 15, 20, 25, 30, 35, 40, 45, 50, 55, 60, 65, 70, 75, 80, 85, 90, 95, 100, 105, 110, 115, 120, 125, 130, 135, 140, 145, 150, 155, 160, 165, 170, 175, 180, 185, 190, 195, 200, 205, 210, 215, 220, 225, 230, 235, 240, 245, 250, 255, 260, 265, 270, 275, 280, 285, 290, 295, 300, 305, 310, 315, 320, 325, 330, 335, 340, 345, 350, 355, 360, 365, 370, 375, 380, 385, 390, 395, 400, 405, 410, 415, 420, 425, 430, 435, 440, 445, 450, 455, 460, 465, 470, 475, 480, 485, 490, 495, 500, 505, 510, 515, 520, 525, 530, 535, 540, 545, 550, 555, 560, 565, 570, 575, 580, 585, 590, 595, 600, 605, 610, 615, 620, 625, 630, 635, 640, 645, 650, 655, 660, 665, 670, 675, 680, 685, 690, 695, 700, 705, 710, 715, 720, 725, 730, 735, 740, 745, 750, 755, 760, 765, 770, 775, 780, 785, 790, 795, 800, 805, 810, 815, 820, 825, 830, 835, 840, 845, 850, 855, 860, 865, 870, 875, 880, 885, 890, 895, 900, 905, 910, 915, 920, 925, 930, 935, 940, 945, 950, 955, 960, 965, 970, 975, 980, 985, 990, 995, 1000, 1005, 1010, 1015, 1020, 1025, 1030, 1035, 1040, 1045, 1050, 1055, 1060, 1065, 1070, 1075, 1080, 1085, 1090, 1095, 1100, 1105, 1110, 1115, 1120, 1125, 1130, 1135, 1140, 1145, 1150, 1155, 1160, 1165, 1170, 1175, 1180, 1185, 1190, 1195, 1200, 1205, 1210, 1215, 1220, 1225, 1230, 1235, 1240, 1245, 1250, 1255, 1260, 1265, 1270, 1275, 1280, 1285, 1290, 1295, 1300, 1305, 1310, 1315, 1320, 1325, 1330, 1335, 1340, 1345, 1350, 1355, 1360, 1365, 1370, 1375, 1380, 1385, 1390, 1395, 1400, 1405, 1410, 1415, 1420, 1425, 1430, 1435, 1440, 1445, 1450, 1455, 1460, 1465, 1470, 1475, 1480, 1485, 1490, 1495, 1500, 1505, 1510, 1515, 1520, 1525, 1530, 1535, 1540, 1545, 1550, 1555, 1560, 1565, 1570, 1575, 1580, 1585, 1590, 1595, 1600, 1605, 1610, 1615, 1620, 1625, 1630, 1635, 1640, 1645, 1650, 1655, 1660, 1665, 1670, 1675, 1680, 1685, 1690, 1695, 1700, 1705, 1710, 1715, 1720, 1725, 1730, 1735, 1740, 1745, 1750, 1755, 1760, 1765, 1770, 1775, 1780, 1785, 1790, 1795, 1800, 1805, 1810, 1815, 1820, 1825, 1830, 1835, 1840, 1845, 1850, 1855, 1860, 1865, 1870, 1875, 1880, 1885, 1890, 1895, 1900, 1905, 1910, 1915, 1920, 1925, 1930, 1935, 1940, 1945, 1950, 1955, 1960, 1965, 1970, 1975, 1980, 1985, 1990, 1995, 2000, 2005, 2010, 2015, 2020, 2025, 2030, 2035, 2040, 2045, 2050, 2055, 2060, 2065, 2070, 2075, 2080, 2085, 2090, 2095, 2100, 2105, 2110, 2115, 2120, 2125, 2130, 2135, 2140, 2145, 2150, 2155, 2160, 2165, 2170, 2175, 2180, 2185, 2190, 2195, 2200, 2205, 2210, 2215, 2220, 2225, 2230, 2235, 2240, 2245, 2250, 2255, 2260, 2265, 2270, 2275, 2280, 2285, 2290, 2295, 2300, 2305, 2310, 2315, 2320, 2325, 2330, 2335, 2340, 2345, 2350, 2355, 2360, 2365, 2370, 2375, 2380, 2385, 2390, 2395, 2400, 2405, 2410, 2415, 2420, 2425, 2430, 2435, 2440, 2445, 2450, 2455, 2460, 2465, 2470, 2475, 2480, 2485, 2490, 2495, 2500, 2505, 2510, 2515, 2520, 2525, 2530, 2535, 2540, 2545, 2550, 2555, 2560, 2565, 2570, 2575, 2580, 2585, 2590, 2595, 2600, 2605, 2610, 2615, 2620, 2625, 2630, 2635, 2640, 2645, 2650, 2655, 2660, 2665, 2670, 2675, 2680, 2685, 2690, 2695, 2700, 2705, 2710, 2715, 2720, 2725, 2730, 2735, 2740, 2745, 2750, 2755, 2760, 2765, 2770, 2775, 2780, 2785, 2790, 2795, 2800, 2805, 2810, 2815, 2820, 2825, 2830, 2835, 2840, 2845, 2850, 2855, 2860, 2865, 2870, 2875, 2880, 2885, 2890, 2895, 2900, 2905, 2910, 2915, 2920, 2925, 2930, 2935, 2940, 2945, 2950, 2955, 2960, 2965, 2970, 2975, 2980, 2985, 2990, 2995, 3000, 3005, 3010, 3015, 3020, 3025, 3030, 3035, 3040, 3045, 3050, 3055, 3060, 3065, 3070, 3075, 3080, 3085, 3090, 3095, 3100, 3105, 3110, 3115, 3120, 3125, 3130, 3135, 3140, 3145, 3150, 3155, 3160, 3165, 3170, 3175, 3180, 3185, 3190, 3195, 3200, 3205, 3210, 3215, 3220, 3225, 3230, 3235, 3240, 3245, 3250, 3255, 3260, 3265, 3270, 3275, 3280, 3285, 3290, 3295, 3300, 3305, 3310, 3315, 3320, 3325, 3330, 3335, 3340, 3345, 3350, 3355, 3360, 3365, 3370, 3375, 3380, 3385, 3390, 3395, 3400, 3405, 3410, 3415, 3420, 3425, 3430, 3435, 3440, 3445, 3450, 3455, 3460, 3465, 3470, 3475, 3480, 3485, 3490, 3495, 3500, 3505, 3510, 3515, 3520, 3525, 3530, 3535, 3540, 3545, 3550, 3555, 3560, 3565, 3570, 3575, 3580, 3585, 3590, 3595, 3600, 3605, 3610, 3615, 3620, 3625, 3630, 3635, 3640, 3645, 3650, 3655, 3660, 3665, 3670, 3675, 3680, 3685, 3690, 3695, 3700, 3705, 3710, 3715, 3720, 3725, 3730, 3735, 3740, 3745, 3750, 3755, 3760, 3765, 3770, 3775, 3780, 3785, 3790, 3795, 3800, 3805, 3810, 3815, 3820, 3825, 3830, 3835, 3840, 3845, 3850, 3855, 3860, 3865, 3870, 3875, 3880, 3885, 3890, 3895, 3900, 3905, 3910, 3915, 3920, 3925, 3930, 3935, 3940, 3945, 3950, 3955, 3960, 3965, 3970, 3975, 3980, 3985, 3990, 3995, 4000, 4005, 4010, 4015, 4020, 4025, 4030, 4035, 4040, 4045, 4050, 4055, 4060, 4065, 4070, 4075, 4080, 4085, 4090, 4095, 4100, 4105, 4110, 4115, 4120, 4125, 4130, 4135, 4140, 4145, 4150, 4155, 4160, 4165, 4170, 4175, 4180, 4185, 4190, 4195, 4200, 4205, 4210, 4215, 4220, 4225, 4230, 4235, 4240, 4245, 4250, 4255, 4260, 4265, 4270, 4275, 4280, 4285, 4290, 4295, 4300, 4305, 4310, 4315, 4320, 4325, 4330, 4335, 4340, 4345, 4350, 4355, 4360, 4365, 4370, 4375, 4380, 4385, 4390, 4395, 4400, 4405, 4410, 4415, 4420, 4425, 4430, 4435, 4440, 4445, 4450, 4455, 4460, 4465, 4470, 4475, 4480, 4485, 4490, 4495, 4500, 4505, 4510, 4515, 4520, 4525, 4530, 4535, 4540, 4545, 4550, 4555, 4560, 4565, 4570, 4575, 4580, 4585, 4590, 4595, 4600, 4605, 4610, 4615, 4620, 4625, 4630, 4635, 4640, 4645, 4650, 4655, 4660, 4665, 4670, 4675, 4680, 4685, 4690, 4695, 4700, 4705, 4710, 4715, 4720, 4725, 4730, 4735, 4740, 4745, 4750, 4755, 4760, 4765, 4770, 4775, 4780, 4785, 4790, 4795, 4800, 4805, 4810, 4815, 4820, 4825, 4830, 4835, 4840, 4845, 4850, 4855, 4860, 4865, 4870, 4875, 4880, 4885, 4890, 4895, 4900, 4905, 4910, 4915, 4920, 4925, 4930, 4935, 4940, 4945, 4950, 4955, 4960, 4965, 4970, 4975, 4980, 4985, 4990, 4995]\n"
     ]
    }
   ],
   "source": [
    "#multiples of 5 below 1000\n",
    "a=5\n",
    "c=[a*b for b in range(1,1000)]\n",
    "print c"
   ]
  },
  {
   "cell_type": "code",
   "execution_count": null,
   "metadata": {
    "collapsed": true
   },
   "outputs": [],
   "source": [
    "\"\"\"\n",
    "Assignment No:23\n",
    "Write a program to findout big of two numbers\n",
    "\"\"\""
   ]
  },
  {
   "cell_type": "code",
   "execution_count": 5,
   "metadata": {
    "collapsed": false
   },
   "outputs": [
    {
     "name": "stdout",
     "output_type": "stream",
     "text": [
      "Enter the first number:345\n",
      "Enter the second number:86695\n",
      "345 is less then 86695\n"
     ]
    }
   ],
   "source": [
    "a=input('Enter the first number:')\n",
    "b=input('Enter the second number:')\n",
    "if a>b:\n",
    "    print '%d is greater than %d'%(a,b)\n",
    "else:\n",
    "    print '%d is less then %d'%(a,b)"
   ]
  },
  {
   "cell_type": "code",
   "execution_count": null,
   "metadata": {
    "collapsed": true
   },
   "outputs": [],
   "source": [
    "\"\"\"\n",
    "Assignment No:24\n",
    "Write a program to findout biggest number in the given numbers.\n",
    "\"\"\""
   ]
  },
  {
   "cell_type": "code",
   "execution_count": 2,
   "metadata": {
    "collapsed": false
   },
   "outputs": [
    {
     "name": "stdout",
     "output_type": "stream",
     "text": [
      "Please enter among no of elements you want to find the biggest number:8\n",
      "enter number:4656657575\n",
      "enter number:464646444444444447576575\n",
      "enter number:63535151\n",
      "enter number:56\n",
      "enter number:444646409\n",
      "enter number:36636363\n",
      "enter number:646464\n",
      "enter number:76464636363\n",
      "The biggest number is 464646444444444447576575\n"
     ]
    }
   ],
   "source": [
    "a=input('Please enter among no of elements you want to find the biggest number:')\n",
    "list1=[]\n",
    "for b in range(a):\n",
    "    list1.append(input('enter number:'))\n",
    "count=list1[0]\n",
    "for a in list1:\n",
    "    if a<=count:\n",
    "        count=count\n",
    "    else:\n",
    "        count=a\n",
    "print 'The biggest number is %d'%count    "
   ]
  },
  {
   "cell_type": "code",
   "execution_count": null,
   "metadata": {
    "collapsed": true
   },
   "outputs": [],
   "source": [
    "\"\"\"\n",
    "Assignment No:25\n",
    "find out the third occurance of given substring\n",
    "\"\"\""
   ]
  },
  {
   "cell_type": "code",
   "execution_count": 3,
   "metadata": {
    "collapsed": false
   },
   "outputs": [
    {
     "name": "stdout",
     "output_type": "stream",
     "text": [
      "Enter the Main string of your choice:This is hello world new delhi hello world new mumbai hello new hyd hello\n",
      "Enter substring of 3rd occurance that you want to find in Main string:Hello\n",
      "The third occurance count is 53\n"
     ]
    }
   ],
   "source": [
    "str1=raw_input('Enter the Main string of your choice:')\n",
    "str2=raw_input('Enter substring of 3rd occurance that you want to find in Main string:')\n",
    "str1=str1.lower()\n",
    "str2=str2.lower()\n",
    "count=0\n",
    "begning=0\n",
    "while True:\n",
    "    if count<3:\n",
    "        begning=str1.find(str2,begning)\n",
    "        count=count+1\n",
    "        begning=begning+1\n",
    "    else:\n",
    "        begning=begning-1\n",
    "        print 'The third occurance count is %d'%begning\n",
    "        break"
   ]
  },
  {
   "cell_type": "code",
   "execution_count": null,
   "metadata": {
    "collapsed": true
   },
   "outputs": [],
   "source": [
    "\"\"\"\n",
    "Assignment No:26\n",
    "find out the nth occurance of given substring\n",
    "\"\"\""
   ]
  },
  {
   "cell_type": "code",
   "execution_count": 3,
   "metadata": {
    "collapsed": false
   },
   "outputs": [
    {
     "name": "stdout",
     "output_type": "stream",
     "text": [
      "Enter the Main string of your choice:Hyderabad Delhi Hyderabad Delhi Hyderabad New hyderabad New hyderabad New\n",
      "Enter substring that you want to find in Main string:Hyderabad\n",
      "Enter which occurance you want to find substring in Main string:5\n",
      "The last occurance count is 60\n"
     ]
    }
   ],
   "source": [
    "str1=raw_input('Enter the Main string of your choice:')\n",
    "str2=raw_input('Enter substring that you want to find in Main string:')\n",
    "str3=input('Enter which occurance you want to find substring in Main string:')\n",
    "str1=str1.lower()\n",
    "str2=str2.lower()\n",
    "count=0\n",
    "begning=0\n",
    "while True:\n",
    "    \n",
    "    if str1.find(str2,begning)==-1 and begning==0:\n",
    "        print \"The substring doesn't found in main string\"\n",
    "        break\n",
    "    \n",
    "    elif str1.find(str2,begning)==-1:\n",
    "        begning=begning-1\n",
    "        print 'The last occurance count is %d'%begning\n",
    "        break\n",
    "    \n",
    "    elif count<str3:\n",
    "        begning=str1.find(str2,begning)\n",
    "        count=count+1\n",
    "        begning=begning+1\n",
    "        \n",
    "    else:\n",
    "        begning=begning-1\n",
    "        print 'The %d occurance count is %d'%(str3,begning)\n",
    "        break"
   ]
  },
  {
   "cell_type": "code",
   "execution_count": null,
   "metadata": {
    "collapsed": true
   },
   "outputs": [],
   "source": [
    "\"\"\"\n",
    "Assignment No:27\n",
    "Take some single numbers from the user and findout min,max,sum,average\n",
    "\"\"\""
   ]
  },
  {
   "cell_type": "code",
   "execution_count": 8,
   "metadata": {
    "collapsed": false
   },
   "outputs": [
    {
     "name": "stdout",
     "output_type": "stream",
     "text": [
      "Enter single numbers from the user separated by comma:234,456,567,566,667,6787,362545351,45646363\n",
      "The sum of numbers is 408200991\n",
      "The average is 51025123\n",
      "The max value is 362545351\n",
      "The mini value is 234\n"
     ]
    }
   ],
   "source": [
    "data=input('Enter single numbers from the user separated by comma:')\n",
    "\n",
    "#To find the sum from the given numbers\n",
    "c=0\n",
    "for a in data:\n",
    "    c=a+c\n",
    "print 'The sum of numbers is %d'%c\n",
    "\n",
    "#To find average\n",
    "Average=float(c)/len(data)\n",
    "print 'The average is %d'%Average\n",
    "\n",
    "#To find the max num\n",
    "count=data[0]\n",
    "for a in data:\n",
    "    if a<=count:\n",
    "        count=count\n",
    "    else:\n",
    "        count=a       \n",
    "        \n",
    "print 'The max value is %d'%count\n",
    "\n",
    "#To find the mini num\n",
    "count=data[0]\n",
    "for a in data:\n",
    "    if a<=count:\n",
    "        count=a\n",
    "    else:\n",
    "        count=count\n",
    "        \n",
    "print 'The mini value is %d'%count       "
   ]
  },
  {
   "cell_type": "code",
   "execution_count": null,
   "metadata": {
    "collapsed": true
   },
   "outputs": [],
   "source": [
    "\"\"\"\n",
    "Assignment No:28\n",
    "WAP> 10 -> 000010\n",
    "       100 ->  000100\n",
    "      1000 ->  001000\n",
    "  2345678  ->  2345678\n",
    "\"\"\""
   ]
  },
  {
   "cell_type": "code",
   "execution_count": 9,
   "metadata": {
    "collapsed": false
   },
   "outputs": [
    {
     "name": "stdout",
     "output_type": "stream",
     "text": [
      "000010\n",
      "000100\n",
      "001000\n",
      "2345678\n"
     ]
    }
   ],
   "source": [
    "print \"%06d\"%10\n",
    "print '%06d'%100\n",
    "print '%06d'%1000\n",
    "print '%06d'%2345678"
   ]
  },
  {
   "cell_type": "code",
   "execution_count": null,
   "metadata": {
    "collapsed": true
   },
   "outputs": [],
   "source": [
    "\"\"\"\n",
    "Assignment No:29\n",
    "names  =\"emp1,emp2,emp3,emp4\" iterate through the employee names.\n",
    "\"\"\""
   ]
  },
  {
   "cell_type": "code",
   "execution_count": 13,
   "metadata": {
    "collapsed": false
   },
   "outputs": [
    {
     "name": "stdout",
     "output_type": "stream",
     "text": [
      "emp1\n",
      "emp2\n",
      "emp3\n"
     ]
    }
   ],
   "source": [
    "#Short-cut logic\n",
    "#names=\"emp1,emp2,emp3,emp4\"\n",
    "#list1=names.split(',')\n",
    "#print list1\n",
    "#for a in list1:\n",
    "    #print a\n",
    "    \n",
    "data='emp1,emp2,emp3,emp4'\n",
    "a=''\n",
    "list1=[]\n",
    "for b in data:\n",
    "    if b==',':\n",
    "        list1.append(a)\n",
    "        a=''\n",
    "    else:\n",
    "        a=a+b\n",
    "        \n",
    "for d in list1:\n",
    "    print d\n",
    "       "
   ]
  },
  {
   "cell_type": "code",
   "execution_count": null,
   "metadata": {
    "collapsed": true
   },
   "outputs": [],
   "source": [
    "\"\"\"\n",
    "Assignment No:35\n",
    "l=[1,2,3] just make it as a string.\n",
    "\"\"\""
   ]
  },
  {
   "cell_type": "code",
   "execution_count": 2,
   "metadata": {
    "collapsed": false
   },
   "outputs": [
    {
     "name": "stdout",
     "output_type": "stream",
     "text": [
      "123\n",
      "1a23asd1as121as23445656612345\n"
     ]
    }
   ],
   "source": [
    "a=''\n",
    "l=[1,2,3]\n",
    "for b in l:\n",
    "    a=str(a)+str(b)\n",
    "print a \n",
    "\n",
    "#Another method\n",
    "\n",
    "c=''\n",
    "l=[1,'a',23,'asd',[1,\"as\",121,\"as\"],234,456,566,(1,2,3,45)]\n",
    "\n",
    "for a in l:\n",
    "    if type(a)==list or type(a)==tuple:\n",
    "        for b in a:\n",
    "            #print b\n",
    "            c=str(c)+str(b)\n",
    "        \n",
    "    else:\n",
    "        c=str(c)+str(a)\n",
    "        \n",
    "print c\n",
    "              "
   ]
  },
  {
   "cell_type": "code",
   "execution_count": null,
   "metadata": {
    "collapsed": true
   },
   "outputs": [],
   "source": [
    "\"\"\"\n",
    "Assignment No:36\n",
    "l=[1,2,3,[4,5,6],7,[8,9,10]] for single dimentional list\n",
    "\"\"\""
   ]
  },
  {
   "cell_type": "code",
   "execution_count": 4,
   "metadata": {
    "collapsed": false
   },
   "outputs": [
    {
     "name": "stdout",
     "output_type": "stream",
     "text": [
      "12345678910asdfqwerty11121314\n"
     ]
    }
   ],
   "source": [
    "c=''\n",
    "l=[1,2,3,[4,5,6],7,[8,9,10],'asdf','qwerty',(11,12,13,14)]\n",
    "\n",
    "for a in l:\n",
    "    if type(a)==list or type(a)==tuple:\n",
    "        for b in a:\n",
    "            #print b\n",
    "            c=str(c)+str(b)\n",
    "        \n",
    "    else:\n",
    "        c=str(c)+str(a)\n",
    "        \n",
    "print c\n",
    "       "
   ]
  },
  {
   "cell_type": "code",
   "execution_count": null,
   "metadata": {
    "collapsed": true
   },
   "outputs": [],
   "source": [
    "\"\"\"\n",
    "Assignment No:11\n",
    "Take a string from the user and check contains atleast one digit or not\n",
    "\"\"\""
   ]
  },
  {
   "cell_type": "code",
   "execution_count": 7,
   "metadata": {
    "collapsed": false
   },
   "outputs": [
    {
     "name": "stdout",
     "output_type": "stream",
     "text": [
      "Enter the string from which you want to find whether it contains atleast one digit or not:m7dieueubst\n",
      "The string contains atleast one digit\n"
     ]
    }
   ],
   "source": [
    "Data=raw_input('Enter the string from which you want to find whether it contains atleast one digit or not:')\n",
    "for a in Data:\n",
    "    if a.isdigit()==True:\n",
    "        print 'The string contains atleast one digit'\n",
    "        break\n",
    "    "
   ]
  },
  {
   "cell_type": "code",
   "execution_count": null,
   "metadata": {
    "collapsed": true
   },
   "outputs": [],
   "source": [
    "\"\"\"\n",
    "Assignment No:12\n",
    "Take a string from the user and check contains atleast one alphabet or not\n",
    "\"\"\""
   ]
  },
  {
   "cell_type": "code",
   "execution_count": 8,
   "metadata": {
    "collapsed": false
   },
   "outputs": [
    {
     "name": "stdout",
     "output_type": "stream",
     "text": [
      "Enter the string from which you want to find whether it contains atleast one alphabet or not:Mi@Dim7T\n",
      "The string contains atleast one alphabet\n"
     ]
    }
   ],
   "source": [
    "Data=raw_input('Enter the string from which you want to find whether it contains atleast one alphabet or not:')\n",
    "for a in Data:\n",
    "    if a.isalpha()==True:\n",
    "        print 'The string contains atleast one alphabet'\n",
    "        break"
   ]
  },
  {
   "cell_type": "code",
   "execution_count": null,
   "metadata": {
    "collapsed": true
   },
   "outputs": [],
   "source": [
    "\"\"\"\n",
    "Assignment No:13\n",
    "take a string from the user and check contains atleast one small letter or not?"
   ]
  },
  {
   "cell_type": "code",
   "execution_count": 9,
   "metadata": {
    "collapsed": false
   },
   "outputs": [
    {
     "name": "stdout",
     "output_type": "stream",
     "text": [
      "Enter the string from which you want to find whether it contains atleast one small or not:HyDerRaBAD\n",
      "The string contains atleast one small letter\n"
     ]
    }
   ],
   "source": [
    "Data=raw_input('Enter the string from which you want to find whether it contains atleast one small letter or not:')\n",
    "for a in Data:\n",
    "    if a.islower()==True:\n",
    "        print 'The string contains atleast one small letter'\n",
    "        break"
   ]
  },
  {
   "cell_type": "code",
   "execution_count": null,
   "metadata": {
    "collapsed": true
   },
   "outputs": [],
   "source": [
    "\"\"\"\n",
    "Assignment No:14\n",
    "take a string from the user and check contains atleast one capital or not?\n",
    "\"\"\""
   ]
  },
  {
   "cell_type": "code",
   "execution_count": 10,
   "metadata": {
    "collapsed": false
   },
   "outputs": [
    {
     "name": "stdout",
     "output_type": "stream",
     "text": [
      "Enter the string from which you want to find whether it contains atleast one capital or not:newyorkstockexchangE\n",
      "The string contains atleast one capital letter\n"
     ]
    }
   ],
   "source": [
    "Data=raw_input('Enter the string from which you want to find whether it contains atleast one capital or not:')\n",
    "for a in Data:\n",
    "    if a.isupper()==True:\n",
    "        print 'The string contains atleast one capital letter'\n",
    "        break"
   ]
  },
  {
   "cell_type": "code",
   "execution_count": null,
   "metadata": {
    "collapsed": true
   },
   "outputs": [],
   "source": [
    "\"\"\"\n",
    "Assignment No:42\n",
    "input fun('abc') output: [[],[a],[b],[c],[a,b],[b,c],[c,a],[a,b,c]]\n",
    "\"\"\""
   ]
  },
  {
   "cell_type": "code",
   "execution_count": 1,
   "metadata": {
    "collapsed": false
   },
   "outputs": [
    {
     "name": "stdout",
     "output_type": "stream",
     "text": [
      "[['a', 'b'], ['b', 'c'], ['c', 'a'], ['a', 'b', 'c'], []]\n",
      "[['a', 'b'], ['b', 'c'], ['c', 'd'], ['d', 'e'], ['e', 'f'], ['f', 'g'], ['g', 'h'], ['h', 'i'], ['i', 'j'], ['j', 'k'], ['k', 'l'], ['l', 'm'], ['m', 'n'], ['n', 'o'], ['o', 'p'], ['p', 'a'], ['a', 'b', 'c', 'd', 'e', 'f', 'g', 'h', 'i', 'j', 'k', 'l', 'm', 'n', 'o', 'p'], []]\n",
      "Enter the string:abcdef\n",
      "[['a', 'b'], ['b', 'c'], ['c', 'd'], ['d', 'e'], ['e', 'f'], ['f', 'a'], ['a', 'b', 'c', 'd', 'e', 'f'], []]\n"
     ]
    }
   ],
   "source": [
    "f='abc'\n",
    "n=0\n",
    "list1=[]\n",
    "for a in range(4):\n",
    "    if a<2:\n",
    "        p=f[n+1]\n",
    "        d=f[n]+f[n+1]\n",
    "        list1.append(list(d))\n",
    "        n=n+1\n",
    "    elif a==2:\n",
    "        d=p+f[0]\n",
    "        list1.append(list(d))\n",
    "    else:\n",
    "        list1.append(list(f))\n",
    "        \n",
    "else:\n",
    "    list1.append([])\n",
    "    \n",
    "print list1\n",
    "\n",
    "#General logic\n",
    "f='abcdefghijklmnop'\n",
    "n=0\n",
    "list1=[]\n",
    "for a in range(len(f)+1):\n",
    "    if a<len(f)-1:\n",
    "        p=f[n+1]\n",
    "        d=f[n]+f[n+1]\n",
    "        list1.append(list(d))\n",
    "        n=n+1\n",
    "    elif a==len(f)-1:\n",
    "        d=p+f[0]\n",
    "        list1.append(list(d))\n",
    "        \n",
    "    else:\n",
    "        list1.append(list(f))\n",
    "else:\n",
    "    list1.append([])\n",
    "        \n",
    "print list1\n",
    "\n",
    "#using functions\n",
    "def fun(f):\n",
    "    n=0\n",
    "    list1=[]\n",
    "    for a in range(len(f)+1):\n",
    "        if a<len(f)-1:\n",
    "            p=f[n+1]\n",
    "            d=f[n]+f[n+1]\n",
    "            list1.append(list(d))\n",
    "            n=n+1\n",
    "        elif a==len(f)-1:\n",
    "            d=p+f[0]\n",
    "            list1.append(list(d))\n",
    "        else:\n",
    "            list1.append(list(f))\n",
    "    else:\n",
    "        list1.append([])\n",
    "        print list1\n",
    " \n",
    "f=raw_input('Enter the string:')\n",
    "fun(f)\n",
    "        "
   ]
  },
  {
   "cell_type": "code",
   "execution_count": null,
   "metadata": {
    "collapsed": true
   },
   "outputs": [],
   "source": [
    "\"\"\"\n",
    "Assignment No:44\n",
    "l=['1','2','3','4'] or ['1','2','3','4','5','g'] get the sum of the list"
   ]
  },
  {
   "cell_type": "code",
   "execution_count": 4,
   "metadata": {
    "collapsed": false
   },
   "outputs": [
    {
     "name": "stdout",
     "output_type": "stream",
     "text": [
      "invalid literal for int() with base 10: 'g'\n",
      "The list should contain string of type number and not string of type alphabet\n",
      "The sum obtained up to 3 index is 10\n"
     ]
    }
   ],
   "source": [
    "l=['1','2','3','4','g']\n",
    "d=0\n",
    "index=0\n",
    "try:\n",
    "    for a in l:\n",
    "        index=l.index(a)\n",
    "        d=d+int(a)\n",
    "except Exception as g:\n",
    "    index=index-1\n",
    "    print g\n",
    "    print 'The list should contain string of type number and not string of type alphabet'\n",
    "    \n",
    "print 'The sum obtained up to %d index is %d'%(index,d)    "
   ]
  },
  {
   "cell_type": "code",
   "execution_count": null,
   "metadata": {
    "collapsed": true
   },
   "outputs": [],
   "source": [
    "\"\"\"\n",
    "Assignment No:45\n",
    "l1=[1,2,3,4] l2=[5,6,7,8] sum of two lists\n",
    "\"\"\""
   ]
  },
  {
   "cell_type": "code",
   "execution_count": 7,
   "metadata": {
    "collapsed": false
   },
   "outputs": [
    {
     "name": "stdout",
     "output_type": "stream",
     "text": [
      "The list contains strings of alphabet type\n",
      "The last sum obtained  is 50\n"
     ]
    }
   ],
   "source": [
    "l=[1,2,3,4,6,'a']\n",
    "m=[5,6,7,8,8,11]\n",
    "c=0\n",
    "try:\n",
    "    if len(l)!=len(m):\n",
    "        print 'The two lists should be equal length'\n",
    "        \n",
    "    else:\n",
    "         for a,b in zip(l,m):\n",
    "                c=int(a)+int(b)+int(c)\n",
    "except:\n",
    "    print 'The list contains strings of alphabet type'\n",
    "    print 'The last sum obtained  is %d'%c\n",
    "       "
   ]
  },
  {
   "cell_type": "code",
   "execution_count": null,
   "metadata": {
    "collapsed": true
   },
   "outputs": [],
   "source": [
    "\"\"\"\n",
    "Assignment No:46\n",
    "Find third max value of element in a list with sorting and without sorting a list.\n",
    "\"\"\""
   ]
  },
  {
   "cell_type": "code",
   "execution_count": 11,
   "metadata": {
    "collapsed": false
   },
   "outputs": [
    {
     "name": "stdout",
     "output_type": "stream",
     "text": [
      "Enter the number of elements that you want to add to the list:5\n",
      "enter number:345\n",
      "enter number:6764\n",
      "enter number:4566\n",
      "enter number:4566\n",
      "enter number:3455\n",
      "[6764, 4566, 4566, 3455, 345]\n",
      "The third maximum value is 4566\n",
      "Enter the number of elements that you want to add to the list:5\n",
      "Enter number:abc\n",
      "Enter number:1245\n",
      "Enter number:4567\n",
      "Enter number:cdef\n",
      "Enter number:zxy\n",
      "['1245', '4567', 'abc', 'cdef', 'zxy']\n",
      "The third maximum value is abc\n"
     ]
    }
   ],
   "source": [
    "#without list sorting function or impleming any other sorting algorithms(displays big to small)\n",
    "try:\n",
    "    a=input('Enter the number of elements that you want to add to the list:')\n",
    "    list1=[]\n",
    "    list2=[]\n",
    "    for b in range(a):\n",
    "        list1.append(input('enter number:'))\n",
    "    while True:\n",
    "        count=list1[0]\n",
    "        for a in list1:\n",
    "            if a<=count: \n",
    "                count=count\n",
    "            else:\n",
    "                count=a\n",
    "            \n",
    "        list2.append(count)\n",
    "        list1.remove(count)\n",
    "    \n",
    "        if list1==[]:\n",
    "            break\n",
    "except:\n",
    "    print 'Please enter string characters using quotation'\n",
    "           \n",
    "print  list2\n",
    "print 'The third maximum value is {0}'.format(list2[0])\n",
    "\n",
    "#by using list sort function(which displays small to big)\n",
    "list3=[]\n",
    "Data=raw_input('Enter the number of elements that you want to add to the list:')\n",
    "for a in range(int(Data)):\n",
    "    list3.append(raw_input('Enter number:'))\n",
    "list3.sort()\n",
    "print list3\n",
    "print 'The third maximum value is {0}'.format(list2[0])"
   ]
  },
  {
   "cell_type": "code",
   "execution_count": null,
   "metadata": {
    "collapsed": true
   },
   "outputs": [],
   "source": [
    "\"\"\"\n",
    "Assignment No:38\n",
    "l=['a','A','b','B','d','D','c','C']  sort the list properly\n",
    "\"\"\""
   ]
  },
  {
   "cell_type": "code",
   "execution_count": 1,
   "metadata": {
    "collapsed": false
   },
   "outputs": [
    {
     "name": "stdout",
     "output_type": "stream",
     "text": [
      "Enter the number of elements that you want to add to the list:8\n",
      "Enter number:a\n",
      "Enter number:A\n",
      "Enter number:c\n",
      "Enter number:C\n",
      "Enter number:d\n",
      "Enter number:D\n",
      "Enter number:b\n",
      "Enter number:B\n",
      "['A', 'B', 'C', 'D', 'a', 'b', 'c', 'd']\n"
     ]
    }
   ],
   "source": [
    "#This can be done easily using list sort function\n",
    "#Without sort function refer assignment:46 the code works same\n",
    "#'a' is always greather than A\n",
    "list3=[]\n",
    "Data=raw_input('Enter the number of elements that you want to add to the list:')\n",
    "for a in range(int(Data)):\n",
    "    list3.append(raw_input('Enter number:'))\n",
    "list3.sort()\n",
    "print list3"
   ]
  },
  {
   "cell_type": "code",
   "execution_count": null,
   "metadata": {
    "collapsed": true
   },
   "outputs": [],
   "source": [
    "\"\"\"\n",
    "Assignment No:40\n",
    "WAP to find union and intersection of lists.\n",
    "\"\"\""
   ]
  },
  {
   "cell_type": "code",
   "execution_count": 5,
   "metadata": {
    "collapsed": false
   },
   "outputs": [
    {
     "name": "stdout",
     "output_type": "stream",
     "text": [
      "The final list after removing duplicates is [1, 2, 3, 4, 67]\n",
      "The intersection of two lists is [1, 2]\n",
      "The union of two lists is [1, 2, 3, 4, 67, 5, 6]\n"
     ]
    }
   ],
   "source": [
    "#This can be done using set concept in python\n",
    "#This logic is written using set function and with out set concept\n",
    "\n",
    "#1.Remove duplicates in list\n",
    "l1=[1,2,3,4,67,1,2,3,4]\n",
    "l3=[]\n",
    "\n",
    "for a in l1:\n",
    "    if a in l1 and a not in l3:\n",
    "        l3.append(a)\n",
    "print 'The final list after removing duplicates is {0}'.format(l3)  \n",
    "\n",
    "#2.Intersection two lists\n",
    "l1=[1,2,3,4,67,1,2]\n",
    "l2=[1,2,5,6]\n",
    "l4=[]\n",
    "\n",
    "for a in l1:\n",
    "    if a in l2 and a not in l4:\n",
    "        l4.append(a)\n",
    "print 'The intersection of two lists is {0}'.format(l4)  \n",
    "\n",
    "#3Union two lists\n",
    "l1=[1,2,3,4,67,1,2,3,4]\n",
    "l2=[1,2,5,6]\n",
    "l5=[]\n",
    "\n",
    "for a in l1:\n",
    "    if a in l1 and a not in l5:\n",
    "        l5.append(a)\n",
    "for a in l2:\n",
    "    if a in l2 and a not in l5:\n",
    "        l5.append(a)\n",
    "        \n",
    "print 'The union of two lists is {0}'.format(l5)\n",
    "\n",
    "#using set function\n",
    "#duplicates:\n",
    "#list(set(l1))\n",
    "#intersection\n",
    "#list(set(l1) & set(l2))\n",
    "#union\n",
    "#list(set(l1) | set(l2))"
   ]
  },
  {
   "cell_type": "code",
   "execution_count": null,
   "metadata": {
    "collapsed": true
   },
   "outputs": [],
   "source": [
    "\"\"\"\n",
    "Assignment No:43\n",
    "Remove duplicates from the list: a=[1,2,3,2,3,4,1,,3,4]\n",
    "Looks like there is some problem in question list is taking double quotation\n",
    "\"\"\""
   ]
  },
  {
   "cell_type": "code",
   "execution_count": 7,
   "metadata": {
    "collapsed": false
   },
   "outputs": [
    {
     "name": "stdout",
     "output_type": "stream",
     "text": [
      "The final list after removing duplicates is [1, 2, 3, 4]\n"
     ]
    }
   ],
   "source": [
    "l1=[1,2,3,2,3,4,1,3,4]\n",
    "l3=[]\n",
    "\n",
    "for a in l1:\n",
    "    if a in l1 and a not in l3:\n",
    "        l3.append(a)\n",
    "print 'The final list after removing duplicates is {0}'.format(l3)  "
   ]
  },
  {
   "cell_type": "code",
   "execution_count": null,
   "metadata": {
    "collapsed": true
   },
   "outputs": [],
   "source": [
    "\"\"\"\n",
    "Assignment No:49\n",
    "input = 1,2,3,4,5,6,8,10 output = odd,even,odd,even,odd,even,even,even\n",
    "\"\"\""
   ]
  },
  {
   "cell_type": "code",
   "execution_count": 8,
   "metadata": {
    "collapsed": false
   },
   "outputs": [
    {
     "name": "stdout",
     "output_type": "stream",
     "text": [
      "('odd', 'even', 'odd', 'even', 'odd', 'even', 'even', 'even')\n"
     ]
    }
   ],
   "source": [
    "a=1,2,3,4,5,6,8,10\n",
    "c=[]\n",
    "for b in a:\n",
    "    if b%2==0:\n",
    "        c.append('even')\n",
    "    else:\n",
    "        c.append('odd')\n",
    "f=tuple(c) \n",
    "print f"
   ]
  },
  {
   "cell_type": "code",
   "execution_count": null,
   "metadata": {
    "collapsed": true
   },
   "outputs": [],
   "source": [
    "\"\"\"\n",
    "Assignment:48\n",
    "l=[1,2,3,5,7,8,9,10,11,12,13,20,22,23,24,25,26,27,20,21,22,4] output = [[1, 2, 3], [5], [7, 8, 9, 10, 11, 12, 13], [20], [22, 23, 24, 25, 26, 27], [20, 21, 22], [4]\n",
    "]\n",
    "\"\"\""
   ]
  },
  {
   "cell_type": "code",
   "execution_count": 1,
   "metadata": {
    "collapsed": false
   },
   "outputs": [
    {
     "name": "stdout",
     "output_type": "stream",
     "text": [
      "[[1, 2, 3], [5], [7, 8, 9, 10, 11, 12, 13], [20], [22, 23, 24, 25, 26, 27], [20, 21, 22], [4]]\n"
     ]
    }
   ],
   "source": [
    "\"\"\"\n",
    "#Under construction\n",
    "f=[1,2,3,5,7,8,9,10,11,12,13,20,22,23,24,25,26,27,20,21,22,4]\n",
    "count=1\n",
    "list1=[]\n",
    "list1.append(f[0])\n",
    "for a in range(len(f)):\n",
    "    if a<21 and f[a+1]==f[a]+1:\n",
    "        list1.append(f[a+1])\n",
    "        a=a+1\n",
    "        count=count+1\n",
    "    elif a==21:\n",
    "        if f[a] not in list1:\n",
    "           list1.append(f[a])\n",
    "    else:\n",
    "        list1.append(f[a+1])\n",
    "#Modify1\n",
    "f=[1,2,3,5,7,8,9,10,11,12,13,20,22,23,24,25,26,27,20,21,22,4]\n",
    "count=1\n",
    "list1=[]\n",
    "list2=[]\n",
    "list2.append(f[0])\n",
    "for a in range(len(f)):\n",
    "    if a<21 and f[a+1]==f[a]+1:\n",
    "        list2.append(f[a+1])\n",
    "        a=a+1\n",
    "    \n",
    "    elif a==21:\n",
    "        if f[a] not in list1:\n",
    "            list2=[]\n",
    "            list2.append(f[a])\n",
    "            list1.append(list2)\n",
    "    else:\n",
    "        if list2!=[]: \n",
    "            list1.append(list2)\n",
    "            list2=[]\n",
    "            #list2.append(f[a+1])\n",
    "            #if list2 not in list1:\n",
    "            #list1.append(list2)\n",
    "              #list2=[]\n",
    "        else:\n",
    "            list2.append(f[a])\n",
    "            list1.append(list2)\n",
    "            list2=[]\n",
    "        \n",
    "print list1\n",
    "\"\"\"\n",
    "#Final\n",
    "f=[1,2,3,5,7,8,9,10,11,12,13,20,22,23,24,25,26,27,20,21,22,4]\n",
    "count=1\n",
    "list1=[]\n",
    "list2=[]\n",
    "\n",
    "for a in range(len(f)):\n",
    "    if a<len(f)-1 and f[a+1]==f[a]+1:\n",
    "        list2.append(f[a])\n",
    "        list2.append(f[a+1])\n",
    "        a=a+1\n",
    "    \n",
    "    elif a==len(f)-1:\n",
    "        if f[a] not in list1:\n",
    "            list2=[]\n",
    "            list2.append(f[a])\n",
    "            list1.append(list2)\n",
    "    else:\n",
    "        if list2!=[]: \n",
    "            p=list2\n",
    "            list2=list(set(p))\n",
    "            list1.append(list2)\n",
    "            list2=[]\n",
    "            #list2.append(f[a+1])\n",
    "            #if list2 not in list1:\n",
    "              #list1.append(list2)\n",
    "              #list2=[]\n",
    "        else:\n",
    "            list2.append(f[a])\n",
    "            list1.append(list2)\n",
    "            list2=[]\n",
    "        \n",
    "print list1        \n",
    "        "
   ]
  },
  {
   "cell_type": "code",
   "execution_count": null,
   "metadata": {
    "collapsed": true
   },
   "outputs": [],
   "source": [
    "\"\"\"\n",
    "Assignment No:59\n",
    "copy 1 file content in to another file(Take the source and destination file path from the user)\n",
    "\"\"\""
   ]
  },
  {
   "cell_type": "code",
   "execution_count": 5,
   "metadata": {
    "collapsed": false
   },
   "outputs": [
    {
     "name": "stdout",
     "output_type": "stream",
     "text": [
      "\n",
      "    1.User will provide source and destination locations for file copy operations\n",
      "    2.The program will copy file from source to destination\n",
      "    3.The program will throw exception if no file exits at the source location\n",
      "    4.If there is no file at destination this program creates a new in destination and copy the data\n",
      "    \n",
      "Enter the source file location:D:\\assignments\\python-training-master\\python-training-master\\fileops\\fileoperations3.txt\n",
      "D:\\assignments\\python-training-master\\python-training-master\\fileops\\fileoperations3.txt\n",
      "Enter the destination file location:D:\\assignments\\python-training-master\\python-training-master\\fileops1\\copyfile.txt\n",
      "D:\\assignments\\python-training-master\\python-training-master\\fileops1\\copyfile.txt\n",
      "copy is successful\n"
     ]
    }
   ],
   "source": [
    "#creating file in the source location.Here user is creating file\n",
    "f=open(r'D:\\assignments\\python-training-master\\python-training-master\\fileops\\fileoperations3.txt','w')\n",
    "f.write('Python is a programming language that lets you work quickly and integrate systems more effectively.\\nPython is simple and easy to learn')\n",
    "#pointer_position=f.tell()\n",
    "#print pointer_position\n",
    "f.close()\n",
    "\n",
    "#Actual program\n",
    "try:\n",
    "    print (\"\"\"\n",
    "    1.User will provide source and destination locations for file copy operations\n",
    "    2.The program will copy file from source to destination\n",
    "    3.The program will throw exception if no file exits at the source location\n",
    "    4.If there is no file at destination this program creates a new in destination and copy the data\n",
    "    \"\"\")\n",
    "    #copy source file\n",
    "    Source=raw_input(r'Enter the source file location:')\n",
    "    print Source\n",
    "    Destination=raw_input(r'Enter the destination file location:')\n",
    "    print Destination\n",
    "    #S=r'D:\\assignments\\python-training-master\\python-training-master\\fileops\\fileoperations3.txt'\n",
    "    #D=r'D:\\assignments\\python-training-master\\python-training-master\\fileops1\\copyfile.txt'\n",
    "    #print S\n",
    "    #print D\n",
    "    open_file=open(Source,'r')\n",
    "    data=open_file.read()\n",
    "    open_file.close()\n",
    "    \n",
    "    #copy to destination\n",
    "    open_file=open(Destination,'a')\n",
    "    open_file.write(data)\n",
    "    open_file.close()\n",
    "    print 'copy is successful'\n",
    "    \n",
    "except Exception as err:\n",
    "    print err\n",
    "    "
   ]
  },
  {
   "cell_type": "code",
   "execution_count": null,
   "metadata": {
    "collapsed": true
   },
   "outputs": [],
   "source": [
    "\"\"\"\n",
    "Assignment No:64\n",
    "64. Take employees info (id,name, age, adress, sal, height, weight)\n",
    "\ta. Take id, provide employee information for that id.\n",
    "\tb. find out average salary.\n",
    "\tc. find out which age, address taking the heighest salary \n",
    "\td. find out every employee BMI value\n",
    "\te. Finally find out the Organization overall BMI\n",
    "\"\"\"     "
   ]
  },
  {
   "cell_type": "code",
   "execution_count": 2,
   "metadata": {
    "collapsed": false
   },
   "outputs": [
    {
     "name": "stdout",
     "output_type": "stream",
     "text": [
      "Enter no of entries you want to insert:5\n",
      "Enter the id:1\n",
      "Enter the name:Dhoni\n",
      "Enter the age:35\n",
      "Enter the adress:Ranchi\n",
      "Enter the salary:35000\n",
      "Enter the height:6\n",
      "Enter the weight70\n",
      "Enter the id:2\n",
      "Enter the name:Kohli\n",
      "Enter the age:30\n",
      "Enter the adress:Banglore\n",
      "Enter the salary:30000\n",
      "Enter the height:5.6\n",
      "Enter the weight65\n",
      "Enter the id:3\n",
      "Enter the name:Rahul\n",
      "Enter the age:40\n",
      "Enter the adress:Banglore\n",
      "Enter the salary:25000\n",
      "Enter the height:6\n",
      "Enter the weight70\n",
      "Enter the id:4\n",
      "Enter the name:Sachin\n",
      "Enter the age:40\n",
      "Enter the adress:Mumbai\n",
      "Enter the salary:70000\n",
      "Enter the height:5.4\n",
      "Enter the weight69\n",
      "Enter the id:5\n",
      "Enter the name:Sourav\n",
      "Enter the age:41\n",
      "Enter the adress:Kolkatta\n",
      "Enter the salary:65000\n",
      "Enter the height:7\n",
      "Enter the weight76\n",
      "Enter how may employee details you required2\n",
      "Enter id for which you want details:4\n",
      "(4, u'Sachin', 40, u'Mumbai', 70000, 5.4, 69)\n",
      "Enter id for which you want details:5\n",
      "(5, u'Sourav', 41, u'Kolkatta', 65000, 7.0, 76)\n",
      "[(35000,), (30000,), (25000,), (70000,), (65000,)]\n",
      "The average salary is 45000\n",
      "(70000,)\n",
      "The highest salary details are [(4, u'Sachin', 40, u'Mumbai', 70000, 5.4, 69)]\n",
      "The employee BMI is 28\n",
      "The employee BMI is 27\n",
      "The employee BMI is 28\n",
      "The employee BMI is 29\n",
      "The employee BMI is 28\n",
      "The organization BMI is 140\n"
     ]
    }
   ],
   "source": [
    "import math\n",
    "#creating database in SQLite database\n",
    "import sqlite3\n",
    "conn = sqlite3.connect('new.db')\n",
    "cur=conn.cursor()\n",
    "\n",
    "\n",
    "#creating table in application\n",
    "cur.execute(\"create table Employee(id int,name varchar(100),age int,address varchar(100),sal int,height real,weight int)\")\n",
    "\n",
    "#inserting elements in to applicationdb\n",
    "list2=[]\n",
    "entries=input('Enter no of entries you want to insert:')\n",
    "for a in range(entries):\n",
    "    ids=input('Enter the id:')\n",
    "    Name=raw_input('Enter the name:')\n",
    "    age=input('Enter the age:')\n",
    "    Address=raw_input('Enter the adress:')\n",
    "    Salary=input('Enter the salary:')\n",
    "    Height=input('Enter the height:')\n",
    "    Weight=input('Enter the weight')\n",
    "    \n",
    "    list2.append((ids,Name,age,Address,Salary,Height,Weight))\n",
    "   \n",
    "    \n",
    "for a in list2:\n",
    "    cur.execute(\"insert into Employee values (?,?,?,?,?,?,?)\",a)\n",
    "conn.commit()\n",
    "\n",
    "\n",
    "\n",
    "#Take id provide employee information for that id\n",
    "try:\n",
    "    entries=input('Enter how may employee details you required')\n",
    "    for a in range(entries):\n",
    "        info_id=raw_input('Enter id for which you want details:')\n",
    "        cur.execute('select * from Employee where id=?',info_id)\n",
    "        print cur.fetchone()\n",
    "        \n",
    "except Exception as err:\n",
    "    print err\n",
    "   \n",
    "    \n",
    "#Take average salary for the employees\n",
    "list2=[]\n",
    "average=0\n",
    "cur.execute('select sal from Employee')\n",
    "data=cur.fetchall()\n",
    "print data\n",
    "list2=[x[0] for x in data]\n",
    "average=sum(list2)/len(list2)\n",
    "\n",
    "print 'The average salary is {0}'.format(average)\n",
    "\n",
    "#find out which age, address taking the heighest salary\n",
    "cur.execute('select max(sal) from Employee')\n",
    "max_sal = cur.fetchall()[0]\n",
    "print max_sal\n",
    "cur.execute('select * from Employee where sal=?',max_sal)\n",
    "highest_salary=cur.fetchall()\n",
    "print \"The highest salary details are {0}\".format(highest_salary)\n",
    "\n",
    "#find out every employee BMI value\n",
    "list3=[]\n",
    "cur.execute('select id from Employee')\n",
    "for a in cur.fetchall():\n",
    "    cur.execute('select height,weight from Employee where id=?',a)\n",
    "    a=cur.fetchone()\n",
    "    BMI=int(a[1]/math.sqrt(a[0]))\n",
    "    print \"The employee BMI is {0}\".format(BMI)\n",
    "    list3.append(BMI)\n",
    "    \n",
    "    \n",
    "#over all organization BMI\n",
    "Total_BMI=sum(list3)\n",
    "print 'The organization BMI is {0}'.format(Total_BMI)\n",
    "\n",
    "conn.close()\n"
   ]
  },
  {
   "cell_type": "code",
   "execution_count": null,
   "metadata": {
    "collapsed": true
   },
   "outputs": [],
   "source": [
    "\"\"\"\n",
    "60. Show the below menu to the user:\n",
    "     1. Add a row\n",
    "     2. modify a row\n",
    "     3. delete a row\n",
    "     Go with one unique field in the file. And maintain that unique constraint in all file modifiction operations\n",
    "     Use .CSV file for this program\n",
    "\"\"\"     "
   ]
  },
  {
   "cell_type": "code",
   "execution_count": 7,
   "metadata": {
    "collapsed": false
   },
   "outputs": [
    {
     "name": "stdout",
     "output_type": "stream",
     "text": [
      "\n",
      "    1.Add a row in .csv file\n",
      "    2.delete a row in .csv file\n",
      "    3.modify a row in .csv file\n",
      "    \n",
      "Please enter your choice:3\n",
      "Enter your old datac\n",
      "Enter your old datacanada\n",
      "Enter your new datac\n",
      "Enter your new datacon\n"
     ]
    }
   ],
   "source": [
    "import csv\n",
    "while True:\n",
    "    print \"\"\"\n",
    "    1.Add a row in .csv file\n",
    "    2.delete a row in .csv file\n",
    "    3.modify a row in .csv file\n",
    "    \"\"\"\n",
    "    choice=raw_input('Please enter your choice:')\n",
    "    if choice=='1':\n",
    "        list2=[]\n",
    "        contents=input('Enter no of cells you want to add to the single row:')\n",
    "        for a in range(contents):\n",
    "            list2.append(raw_input('Enter your data to add to a cell in row:'))\n",
    "        f=open('practise.csv','ab')\n",
    "        write=csv.writer(f,dialect='excel')\n",
    "        write.writerow(list2)\n",
    "        f.close()\n",
    "        break\n",
    "    elif choice=='2':\n",
    "        delete_row=input('Please enter which row you want to delete')\n",
    "        f=open('practise.csv','rb')\n",
    "        g=open('first_edit_practise.csv','wb')\n",
    "        read=csv.reader(f,dialect='excel')\n",
    "        write=csv.writer(g,dialect='excel')\n",
    "        for row in read:\n",
    "            if read.line_num==delete_row:\n",
    "                continue\n",
    "            else:\n",
    "                write.writerow(row)\n",
    "        f.close()\n",
    "        g.close()\n",
    "        break\n",
    "    elif choice=='3':\n",
    "        \"\"\"\n",
    "        Here you need to enter your data for all cells of the row\n",
    "        \"\"\"\n",
    "        old_data=[raw_input('Enter your old data') for x in range(2)]\n",
    "        new_data=[raw_input('Enter your new data') for x in range(2)]\n",
    "        f=open('practise.csv','rb')\n",
    "        g=open('modify_practise.csv','wb')\n",
    "        read=csv.reader(f,dialect='excel')\n",
    "        list2=[row for row in read]\n",
    "        index=list2.index(old_data)\n",
    "        list2[index][1]=new_data[1]\n",
    "        write=csv.writer(g,dialect='excel')\n",
    "        for row in list2:\n",
    "            write.writerow(row)\n",
    "        f.close()\n",
    "        g.close()\n",
    "        break   \n",
    "        \n"
   ]
  },
  {
   "cell_type": "code",
   "execution_count": null,
   "metadata": {
    "collapsed": true
   },
   "outputs": [],
   "source": [
    "\"\"\"\n",
    "Assignment No:70\n",
    " Write a class(DB) program to create a table, insert values, update values, delete values of the table. \n",
    "All database operations code write in a file(db_operations.py) and call these operations in another file( app.py).\n",
    "In app.py create instance of the DB class and call all the methods by passing some data.\n",
    "Note: if you don’t have knowledge on db operations then write for file operations.\n",
    "\"\"\""
   ]
  },
  {
   "cell_type": "code",
   "execution_count": null,
   "metadata": {
    "collapsed": true
   },
   "outputs": [],
   "source": [
    "Refer db_operations.py\n",
    "Refer testexe.py"
   ]
  },
  {
   "cell_type": "code",
   "execution_count": null,
   "metadata": {
    "collapsed": true
   },
   "outputs": [],
   "source": [
    "\"\"\"\n",
    "Assignment No:84\n",
    "find out intersection, union, difference of two list without/with using set\n",
    "\"\"\""
   ]
  },
  {
   "cell_type": "code",
   "execution_count": 2,
   "metadata": {
    "collapsed": false
   },
   "outputs": [
    {
     "name": "stdout",
     "output_type": "stream",
     "text": [
      "The final list after removing duplicates is [1, 2, 3, 4, 67]\n",
      "The intersection of two lists is [1, 2]\n",
      "The union of two lists is [1, 2, 3, 4, 67, 5, 6]\n",
      "[1, 2, 3, 4, 5]\n",
      "[1, 2, 3, 4, 5]\n",
      "[1, 2, 3, 4, 5, 6, 7]\n"
     ]
    }
   ],
   "source": [
    "#This can be done using set concept in python\n",
    "#This logic is written using set function and with out set concept\n",
    "\n",
    "#1.Remove duplicates in list\n",
    "l1=[1,2,3,4,67,1,2,3,4]\n",
    "l3=[]\n",
    "\n",
    "for a in l1:\n",
    "    if a in l1 and a not in l3:\n",
    "        l3.append(a)\n",
    "print 'The final list after removing duplicates is {0}'.format(l3)  \n",
    "\n",
    "#2.Intersection two lists\n",
    "l1=[1,2,3,4,67,1,2]\n",
    "l2=[1,2,5,6]\n",
    "l4=[]\n",
    "\n",
    "for a in l1:\n",
    "    if a in l2 and a not in l4:\n",
    "        l4.append(a)\n",
    "print 'The intersection of two lists is {0}'.format(l4)  \n",
    "\n",
    "#3Union two lists\n",
    "l1=[1,2,3,4,67,1,2,3,4]\n",
    "l2=[1,2,5,6]\n",
    "l5=[]\n",
    "\n",
    "for a in l1:\n",
    "    if a in l1 and a not in l5:\n",
    "        l5.append(a)\n",
    "for a in l2:\n",
    "    if a in l2 and a not in l5:\n",
    "        l5.append(a)\n",
    "print 'The union of two lists is {0}'.format(l5)\n",
    "\n",
    "#using set function\n",
    "l1=[1,2,3,4,5,1,2,3,4]\n",
    "l2=[5,6,7,1,2,3,4,6,5]\n",
    "#duplicates:\n",
    "l5=list(set(l1))\n",
    "print l5\n",
    "#intersection\n",
    "l3=list(set(l1) & set(l2))\n",
    "print l3\n",
    "#union\n",
    "l4=list(set(l1) | set(l2)) \n",
    "print l4\n",
    "        \n",
    "        "
   ]
  },
  {
   "cell_type": "code",
   "execution_count": null,
   "metadata": {
    "collapsed": true
   },
   "outputs": [],
   "source": [
    "\"\"\"\n",
    "Assignment No:82\n",
    "delete more than one key value pair at a time.\n",
    "\"\"\""
   ]
  },
  {
   "cell_type": "code",
   "execution_count": 4,
   "metadata": {
    "collapsed": false
   },
   "outputs": [
    {
     "name": "stdout",
     "output_type": "stream",
     "text": [
      "The dictionary before deleting multiple key value pairs {'landmark': 'silparamam', 'place': 'hyderabad', 'location': 'Madhapur', 'road': 'maruti nagar'}\n",
      "The dictionary after deleting multiple key value pairs {'place': 'hyderabad', 'location': 'Madhapur'}\n"
     ]
    }
   ],
   "source": [
    "#define dictionary using values from the user\n",
    "d={'landmark': 'silparamam', 'place': 'hyderabad', 'location': 'Madhapur', 'road': 'maruti nagar'}\n",
    "print 'The dictionary before deleting multiple key value pairs {0}'.format(d)\n",
    "del d['landmark'],d['road']\n",
    "print 'The dictionary after deleting multiple key value pairs {0}'.format(d)\n",
    "   "
   ]
  },
  {
   "cell_type": "code",
   "execution_count": null,
   "metadata": {
    "collapsed": true
   },
   "outputs": [],
   "source": [
    "\"\"\"\n",
    "Assignment No:81\n",
    "take two lists keys, values and form a dictionary\n",
    "\"\"\""
   ]
  },
  {
   "cell_type": "code",
   "execution_count": 6,
   "metadata": {
    "collapsed": false
   },
   "outputs": [
    {
     "name": "stdout",
     "output_type": "stream",
     "text": [
      "{'a': 'Apple', 'c': 'california', 'b': 'Benz', 'd': 'Death by chocolate'}\n"
     ]
    }
   ],
   "source": [
    "def form_dict(list1,list2):\n",
    "    return {k:list2.pop(0) for k in list1}\n",
    "\n",
    "print form_dict(['a','b','c','d'],['Apple','Benz','california','Death by chocolate'])"
   ]
  },
  {
   "cell_type": "code",
   "execution_count": null,
   "metadata": {
    "collapsed": true
   },
   "outputs": [],
   "source": [
    "\"\"\"\n",
    "Assignment No:80\n",
    "WAP to remove perticular element from a given list for all occurancers\n",
    "\"\"\""
   ]
  },
  {
   "cell_type": "code",
   "execution_count": 8,
   "metadata": {
    "collapsed": false
   },
   "outputs": [
    {
     "name": "stdout",
     "output_type": "stream",
     "text": [
      "enter which particular element to delete from the list with all occurances:10\n",
      "The final list is [1, 2, 3, 4, 5, 6, 7, 8, 9, 11, 12, 13, 14, 15, 16]\n"
     ]
    }
   ],
   "source": [
    "list1=[10,1,2,3,4,10,5,6,7,8,9,10,11,12,13,10,14,15,10,16]\n",
    "element_remove=input('enter which particular element to delete from the list with all occurances:')\n",
    "if element_remove in list1:\n",
    "    for a in range(list1.count(element_remove)):\n",
    "        b=list1.index(element_remove)\n",
    "        del list1[b]\n",
    "print 'The final list is {0}'.format(list1)        "
   ]
  },
  {
   "cell_type": "code",
   "execution_count": null,
   "metadata": {
    "collapsed": true
   },
   "outputs": [],
   "source": [
    "\"\"\"\n",
    "Assignment No:58\n",
    "WAP to remove n occurances of specified element from a list\n",
    "\"\"\""
   ]
  },
  {
   "cell_type": "code",
   "execution_count": 9,
   "metadata": {
    "collapsed": false
   },
   "outputs": [
    {
     "name": "stdout",
     "output_type": "stream",
     "text": [
      "Enter a element to remove:3\n",
      "Enter occurence to remove:2\n",
      "[1, 2, 3, 1, 2, 1]\n"
     ]
    }
   ],
   "source": [
    "list1=[1,2,3,1,2,3,1]\n",
    "\n",
    "remove_element=input(\"Enter a element to remove:\")\n",
    "occurance=input(\"Enter occurence to remove:\")\n",
    "\n",
    "count,count1=0,0\n",
    "for i in list1:\n",
    "    count1+=1\n",
    "    if i==remove_element:\n",
    "        count+=1\n",
    "        if count == occurance:\n",
    "            del list1[count1-1]\n",
    "\n",
    "print list1"
   ]
  },
  {
   "cell_type": "code",
   "execution_count": null,
   "metadata": {
    "collapsed": true
   },
   "outputs": [],
   "source": [
    "\"\"\"\n",
    "Assignment No:73\n",
    "create a user defined datatype, and provide functionalities of addition substraction and multiplication. Create three instances(obj1,obj2,obj3) and print an output of obj1+obj2+obj3, obj1-obj2-obj3, obj1*obj2*obj3\n",
    "\"\"\""
   ]
  },
  {
   "cell_type": "code",
   "execution_count": 7,
   "metadata": {
    "collapsed": false
   },
   "outputs": [
    {
     "name": "stdout",
     "output_type": "stream",
     "text": [
      "<__main__.c1 instance at 0x02E7CE40>\n",
      "<__main__.c1 instance at 0x02E7CC88>\n",
      "<__main__.c1 instance at 0x02E7CE40>\n",
      "<__main__.c1 instance at 0x02E7CC88>\n",
      "(60, 40)\n",
      "<__main__.c1 instance at 0x02E7CE40>\n",
      "<__main__.c1 instance at 0x02E7CC88>\n",
      "-20\n",
      "<__main__.c1 instance at 0x02E7CE40>\n",
      "<__main__.c1 instance at 0x02E7CC88>\n",
      "800\n"
     ]
    }
   ],
   "source": [
    "class c1:\n",
    "    def __init__(self,a,b):\n",
    "        self.a=a\n",
    "        self.b=b  \n",
    "    def __add__(obj1,obj2):\n",
    "        print obj1\n",
    "        print obj2\n",
    "        return obj1.a+obj2.a,obj1.b+obj2.b\n",
    "    \n",
    "    def __sub__(obj1,obj2):\n",
    "        print obj1\n",
    "        print obj2\n",
    "        return obj1.a-obj2.a\n",
    "    \n",
    "    def __mul__(obj1,obj2):\n",
    "        print obj1\n",
    "        print obj2\n",
    "        return (obj1.a*obj2.a)\n",
    "    \n",
    "a=c1(20,10)\n",
    "print a\n",
    "b=c1(40,30)\n",
    "print b\n",
    "print a+b\n",
    "print a-b\n",
    "print a*b"
   ]
  },
  {
   "cell_type": "code",
   "execution_count": null,
   "metadata": {
    "collapsed": true
   },
   "outputs": [],
   "source": [
    "\"\"\"\n",
    "Assignment No:73\n",
    "addition, substraction, multiplication operations are not supported by dictionary. Write a program to provide addition, substraction, and  multiplication\n",
    "\"\"\"\""
   ]
  },
  {
   "cell_type": "code",
   "execution_count": 3,
   "metadata": {
    "collapsed": false
   },
   "outputs": [
    {
     "name": "stdout",
     "output_type": "stream",
     "text": [
      "21\n",
      "28\n",
      "54\n",
      "-11\n",
      "14\n",
      "-28\n",
      "37\n",
      "75\n",
      "267\n"
     ]
    }
   ],
   "source": [
    "class operations(dict):\n",
    "    def __init__(self,data):\n",
    "        super(operations,self).__init__(data)\n",
    "        \n",
    "    def __add__(obj1,obj2):\n",
    "        for (a,b),(c,d) in zip(obj1.items(),obj2.items()):\n",
    "            print (a+c)+(b+d)\n",
    "    \n",
    "    def __sub__(obj1,obj2):\n",
    "        for (a,b),(c,d) in zip(obj1.items(),obj2.items()):\n",
    "            print (a-c)+(b-d)\n",
    "    \n",
    "    def __mul__(obj1,obj2):\n",
    "        for (a,b),(c,d) in zip(obj1.items(),obj2.items()):\n",
    "            print (a*c)+(b*d)\n",
    "    \n",
    "a=operations({1:4,6:7,10:11})\n",
    "b=operations({2:5,9:7,20:21})\n",
    "\n",
    "a+b\n",
    "a-b\n",
    "a*b"
   ]
  },
  {
   "cell_type": "code",
   "execution_count": null,
   "metadata": {
    "collapsed": true
   },
   "outputs": [],
   "source": [
    "\"\"\"\n",
    "Assignment No:52\n",
    "keys=['k1','k2'], values = ['v1','v2'] form a dictionary.\n",
    "\"\"\"\""
   ]
  },
  {
   "cell_type": "code",
   "execution_count": 4,
   "metadata": {
    "collapsed": false
   },
   "outputs": [
    {
     "name": "stdout",
     "output_type": "stream",
     "text": [
      "{'k2': 'v2', 'k1': 'v1'}\n"
     ]
    }
   ],
   "source": [
    "keys=['k1','k2'] \n",
    "values =['v1','v2']\n",
    "\n",
    "print dict(zip(keys,values))"
   ]
  },
  {
   "cell_type": "code",
   "execution_count": null,
   "metadata": {
    "collapsed": true
   },
   "outputs": [],
   "source": [
    "\"\"\"\n",
    "Assignment No:51\n",
    "input='google'\n",
    "output={'g':2,'o':2,'l':1,'e':1} using dict comprehension"
   ]
  },
  {
   "cell_type": "code",
   "execution_count": 2,
   "metadata": {
    "collapsed": false
   },
   "outputs": [
    {
     "name": "stdout",
     "output_type": "stream",
     "text": [
      "{'e': 1, 'g': 2, 'o': 2, 'l': 1}\n"
     ]
    }
   ],
   "source": [
    "a='google'\n",
    "print {x:a.count(x) for x in set(a)}"
   ]
  },
  {
   "cell_type": "code",
   "execution_count": null,
   "metadata": {
    "collapsed": true
   },
   "outputs": [],
   "source": [
    "\"\"\"\n",
    "Assignment No:53\n",
    "Sort the list marks = [(\"mohan\", 80), (\"satish\", 90), (\"purnesh\", 40), (\"venkat\", 30)] acording to descending order of marks\n",
    "\"\"\""
   ]
  },
  {
   "cell_type": "code",
   "execution_count": 5,
   "metadata": {
    "collapsed": false
   },
   "outputs": [
    {
     "data": {
      "text/plain": [
       "[('satish', 90), ('mohan', 80), ('purnesh', 40), ('venkat', 30)]"
      ]
     },
     "execution_count": 5,
     "metadata": {},
     "output_type": "execute_result"
    }
   ],
   "source": [
    "sorted([('mohan',80),('satish',90),('purnesh',40),('venkat',30)],key=lambda x:x[1],reverse=True)"
   ]
  },
  {
   "cell_type": "code",
   "execution_count": null,
   "metadata": {
    "collapsed": true
   },
   "outputs": [],
   "source": [
    "\"\"\"\n",
    "Assignment No:77\n",
    "Remove duplicates elements of the list without using built in keywords and temporary list.\n",
    "\"\"\""
   ]
  },
  {
   "cell_type": "code",
   "execution_count": 2,
   "metadata": {
    "collapsed": false
   },
   "outputs": [
    {
     "name": "stdout",
     "output_type": "stream",
     "text": [
      "[45, 1, 22, 45, 33, 99, 67]\n"
     ]
    }
   ],
   "source": [
    "class remove_duplicates:\n",
    "    def __init__(self,args):\n",
    "        self.args=args\n",
    "        \n",
    "    def duplicate(self):\n",
    "        for i in self.args:\n",
    "            if i in self.args[self.args.index(i)+1:]:\n",
    "                self.args.remove(i)\n",
    "        return self.args\n",
    "    \n",
    "list1=[22,45,67,1,33,22,67,45,33,99,67]\n",
    "a=remove_duplicates(list1)\n",
    "print a.duplicate()\n",
    "            \n",
    "            "
   ]
  },
  {
   "cell_type": "code",
   "execution_count": null,
   "metadata": {
    "collapsed": true
   },
   "outputs": [],
   "source": [
    "\"\"\"\n",
    "Assignment No:83\n",
    "write a class program to demonstrate method overloading in python using below scenario.\n",
    " \tWrite a class and constructor to create an instances like below\n",
    "\ta. p1 = person(id=1,name=”ashok”,age=23,sal=56787)\n",
    "    b. p2 = person(id=2,age=24,adhar=23456)\n",
    "\tc. p3 = person(id=4,pan=”brcp3456”,sal=23,age=45)\t\n",
    "make instance iterable and provide the operations  p1+p2, p1-p2. Give your own definition for the operations\n",
    "\"\"\""
   ]
  },
  {
   "cell_type": "code",
   "execution_count": 3,
   "metadata": {
    "collapsed": false
   },
   "outputs": [
    {
     "name": "stdout",
     "output_type": "stream",
     "text": [
      "{'name': 'john', 'sal': 23, 'age': 45, 'id': 4, 'pan': 'nlmops'}\n",
      "{'age': [23, 45], 'id': [1, 4], 'sal': [56787, 23]}\n"
     ]
    }
   ],
   "source": [
    "class person(object):\n",
    "    def __init__(self,**kwargs):\n",
    "        self.kwargs=kwargs\n",
    "        \n",
    "    def __add__(self,other):\n",
    "        d={}\n",
    "        d.update(self.kwargs)\n",
    "        d.update(other.kwargs)\n",
    "        return d\n",
    "        \n",
    "    def __sub__(self,other):\n",
    "        d1={}\n",
    "        for i in other.kwargs:\n",
    "            if i in self.kwargs:\n",
    "                d1[i]=[self.kwargs[i],other.kwargs[i]]\n",
    "        return d1\n",
    "    \n",
    "p1=person(id=1,name='john',age=23,sal=56787) \n",
    "p2=person(id=2,age=24,adhar=23456)\n",
    "p2=person(id=4,pan=\"nlmops\",sal=23,age=45)\n",
    "\n",
    "\n",
    "print p1+p2\n",
    "print p1-p2\n",
    "    "
   ]
  },
  {
   "cell_type": "code",
   "execution_count": null,
   "metadata": {
    "collapsed": true
   },
   "outputs": [],
   "source": [
    "\"\"\"\n",
    "Assignment No:55\n",
    "find out all perfect numbers in given range\n",
    "\"\"\"\""
   ]
  },
  {
   "cell_type": "code",
   "execution_count": 2,
   "metadata": {
    "collapsed": false
   },
   "outputs": [
    {
     "name": "stdout",
     "output_type": "stream",
     "text": [
      "Enter the range in which you want to find perfect numbers:498\n",
      "[6, 28, 496]\n"
     ]
    }
   ],
   "source": [
    "range_data=input('Enter the range in which you want to find perfect numbers:')\n",
    "list1=[]\n",
    "for a in range(1,range_data+1):\n",
    "    c=[ b for b in range(a) if b!=0 and a%b==0]\n",
    "    if sum(c)==a:\n",
    "        list1.append(a)\n",
    "        \n",
    "print list1 "
   ]
  },
  {
   "cell_type": "code",
   "execution_count": null,
   "metadata": {
    "collapsed": true
   },
   "outputs": [],
   "source": [
    "\"\"\"\n",
    "Assignment No:34\n",
    "Convert n dimentional list to single dimentiona list.\n",
    "\"\"\"\""
   ]
  },
  {
   "cell_type": "code",
   "execution_count": 3,
   "metadata": {
    "collapsed": false
   },
   "outputs": [
    {
     "name": "stdout",
     "output_type": "stream",
     "text": [
      "[1, 2, 5, 6, 7, 8, 'Delhi', 'India']\n"
     ]
    }
   ],
   "source": [
    "z=[[1,2],[5,6],[7,8],['Delhi','India']]\n",
    "\n",
    "print [y for a in z for y in a]\n"
   ]
  },
  {
   "cell_type": "code",
   "execution_count": null,
   "metadata": {
    "collapsed": true
   },
   "outputs": [],
   "source": [
    "\"\"\"\"\n",
    "Assignment No:81\n",
    "write a class that can create only one object. IF create one more object then it should \n",
    "written existing object but not new. Create three instances and print id’s of the instances. \n",
    "All the id’s should show same address\n",
    "\"\"\""
   ]
  },
  {
   "cell_type": "code",
   "execution_count": null,
   "metadata": {
    "collapsed": true
   },
   "outputs": [],
   "source": []
  }
 ],
 "metadata": {
  "kernelspec": {
   "display_name": "Python 2",
   "language": "python",
   "name": "python2"
  },
  "language_info": {
   "codemirror_mode": {
    "name": "ipython",
    "version": 2
   },
   "file_extension": ".py",
   "mimetype": "text/x-python",
   "name": "python",
   "nbconvert_exporter": "python",
   "pygments_lexer": "ipython2",
   "version": "2.7.13"
  }
 },
 "nbformat": 4,
 "nbformat_minor": 2
}
